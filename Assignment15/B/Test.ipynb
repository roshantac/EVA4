{
  "nbformat": 4,
  "nbformat_minor": 0,
  "metadata": {
    "colab": {
      "name": "Untitled13.ipynb",
      "provenance": [],
      "mount_file_id": "1xibXLW68uZx_VXR0Yni0TEH2xb_omg1A",
      "authorship_tag": "ABX9TyMoM6Bv/bZacrLfqI5Wu4Tw",
      "include_colab_link": true
    },
    "kernelspec": {
      "name": "python3",
      "display_name": "Python 3"
    },
    "accelerator": "GPU"
  },
  "cells": [
    {
      "cell_type": "markdown",
      "metadata": {
        "id": "view-in-github",
        "colab_type": "text"
      },
      "source": [
        "<a href=\"https://colab.research.google.com/github/roshantac/EVA4/blob/master/Assignment15/B/Test.ipynb\" target=\"_parent\"><img src=\"https://colab.research.google.com/assets/colab-badge.svg\" alt=\"Open In Colab\"/></a>"
      ]
    },
    {
      "cell_type": "code",
      "metadata": {
        "id": "kgGaT-xzo8J-",
        "colab_type": "code",
        "colab": {
          "base_uri": "https://localhost:8080/",
          "height": 302
        },
        "outputId": "564ae3b1-a110-413b-8b97-fec798fd9b3b"
      },
      "source": [
        "!nvidia-smi"
      ],
      "execution_count": 15,
      "outputs": [
        {
          "output_type": "stream",
          "text": [
            "Sun May 17 07:50:06 2020       \n",
            "+-----------------------------------------------------------------------------+\n",
            "| NVIDIA-SMI 440.82       Driver Version: 418.67       CUDA Version: 10.1     |\n",
            "|-------------------------------+----------------------+----------------------+\n",
            "| GPU  Name        Persistence-M| Bus-Id        Disp.A | Volatile Uncorr. ECC |\n",
            "| Fan  Temp  Perf  Pwr:Usage/Cap|         Memory-Usage | GPU-Util  Compute M. |\n",
            "|===============================+======================+======================|\n",
            "|   0  Tesla T4            Off  | 00000000:00:04.0 Off |                    0 |\n",
            "| N/A   39C    P8    10W /  70W |      0MiB / 15079MiB |      0%      Default |\n",
            "+-------------------------------+----------------------+----------------------+\n",
            "                                                                               \n",
            "+-----------------------------------------------------------------------------+\n",
            "| Processes:                                                       GPU Memory |\n",
            "|  GPU       PID   Type   Process name                             Usage      |\n",
            "|=============================================================================|\n",
            "|  No running processes found                                                 |\n",
            "+-----------------------------------------------------------------------------+\n"
          ],
          "name": "stdout"
        }
      ]
    },
    {
      "cell_type": "code",
      "metadata": {
        "id": "Bq5KbqR_jf0R",
        "colab_type": "code",
        "colab": {
          "base_uri": "https://localhost:8080/",
          "height": 121
        },
        "outputId": "74695025-205e-4a1d-91d0-3b60b9df6356"
      },
      "source": [
        "from google.colab import drive\n",
        "drive.mount('/content/drive')"
      ],
      "execution_count": 2,
      "outputs": [
        {
          "output_type": "stream",
          "text": [
            "Go to this URL in a browser: https://accounts.google.com/o/oauth2/auth?client_id=947318989803-6bn6qk8qdgf4n4g3pfee6491hc0brc4i.apps.googleusercontent.com&redirect_uri=urn%3aietf%3awg%3aoauth%3a2.0%3aoob&response_type=code&scope=email%20https%3a%2f%2fwww.googleapis.com%2fauth%2fdocs.test%20https%3a%2f%2fwww.googleapis.com%2fauth%2fdrive%20https%3a%2f%2fwww.googleapis.com%2fauth%2fdrive.photos.readonly%20https%3a%2f%2fwww.googleapis.com%2fauth%2fpeopleapi.readonly\n",
            "\n",
            "Enter your authorization code:\n",
            "··········\n",
            "Mounted at /content/drive\n"
          ],
          "name": "stdout"
        }
      ]
    },
    {
      "cell_type": "code",
      "metadata": {
        "id": "ky9RP35Jj0fS",
        "colab_type": "code",
        "colab": {}
      },
      "source": [
        "!mkdir temp\n",
        "#!cp '/content/drive/My Drive/Eva_DataSet.zip' temp\n",
        "!cp '/content/drive/My Drive/sample10.zip' temp"
      ],
      "execution_count": 0,
      "outputs": []
    },
    {
      "cell_type": "code",
      "metadata": {
        "id": "nouBJtUjkHgo",
        "colab_type": "code",
        "colab": {}
      },
      "source": [
        "destDataDir = '/content/temp/'\n",
        "path_to_zip_file = '/content/temp/sample10.zip'\n",
        "import zipfile\n",
        "with zipfile.ZipFile(path_to_zip_file, 'r') as zip_ref:\n",
        "    zip_ref.extractall(destDataDir)"
      ],
      "execution_count": 0,
      "outputs": []
    },
    {
      "cell_type": "code",
      "metadata": {
        "id": "c_SAs2LVkI2m",
        "colab_type": "code",
        "colab": {}
      },
      "source": [
        "!mkdir data"
      ],
      "execution_count": 0,
      "outputs": []
    },
    {
      "cell_type": "code",
      "metadata": {
        "id": "05AeokrSkKyi",
        "colab_type": "code",
        "colab": {}
      },
      "source": [
        "!mv '/content/temp/sample10k/depth' '/content/data/'\n",
        "!mv '/content/temp/sample10k/fgbg' '/content/data/'\n",
        "!mv '/content/temp/sample10k/mask' '/content/data/'"
      ],
      "execution_count": 0,
      "outputs": []
    },
    {
      "cell_type": "code",
      "metadata": {
        "id": "VHhJImoQpRhO",
        "colab_type": "code",
        "colab": {
          "base_uri": "https://localhost:8080/",
          "height": 171
        },
        "outputId": "cddef439-4c56-43a2-a8cf-b36bb1a77616"
      },
      "source": [
        "!pip install kornia\n",
        "from torch.utils.data import DataLoader, Dataset\n",
        "from PIL import Image\n",
        "from torchvision.transforms import transforms\n",
        "from matplotlib import pyplot as plt\n",
        "import torchvision\n",
        "from torch import nn\n",
        "import os\n",
        "import torch\n",
        "from kornia.losses import SSIM\n",
        "\n",
        "root = \"data\"\n"
      ],
      "execution_count": 11,
      "outputs": [
        {
          "output_type": "stream",
          "text": [
            "Collecting kornia\n",
            "\u001b[?25l  Downloading https://files.pythonhosted.org/packages/c2/60/f0c174c4a2a40b10b04b37c43f5afee3701cc145b48441a2dc5cf9286c3c/kornia-0.3.1-py2.py3-none-any.whl (158kB)\n",
            "\r\u001b[K     |██                              | 10kB 23.7MB/s eta 0:00:01\r\u001b[K     |████▏                           | 20kB 29.9MB/s eta 0:00:01\r\u001b[K     |██████▏                         | 30kB 34.9MB/s eta 0:00:01\r\u001b[K     |████████▎                       | 40kB 28.7MB/s eta 0:00:01\r\u001b[K     |██████████▎                     | 51kB 13.7MB/s eta 0:00:01\r\u001b[K     |████████████▍                   | 61kB 12.0MB/s eta 0:00:01\r\u001b[K     |██████████████▍                 | 71kB 11.6MB/s eta 0:00:01\r\u001b[K     |████████████████▌               | 81kB 12.3MB/s eta 0:00:01\r\u001b[K     |██████████████████▋             | 92kB 11.1MB/s eta 0:00:01\r\u001b[K     |████████████████████▋           | 102kB 11.7MB/s eta 0:00:01\r\u001b[K     |██████████████████████▊         | 112kB 11.7MB/s eta 0:00:01\r\u001b[K     |████████████████████████▊       | 122kB 11.7MB/s eta 0:00:01\r\u001b[K     |██████████████████████████▉     | 133kB 11.7MB/s eta 0:00:01\r\u001b[K     |████████████████████████████▉   | 143kB 11.7MB/s eta 0:00:01\r\u001b[K     |███████████████████████████████ | 153kB 11.7MB/s eta 0:00:01\r\u001b[K     |████████████████████████████████| 163kB 11.7MB/s \n",
            "\u001b[?25hRequirement already satisfied: numpy in /usr/local/lib/python3.6/dist-packages (from kornia) (1.18.4)\n",
            "Requirement already satisfied: torch==1.5.0 in /usr/local/lib/python3.6/dist-packages (from kornia) (1.5.0+cu101)\n",
            "Requirement already satisfied: future in /usr/local/lib/python3.6/dist-packages (from torch==1.5.0->kornia) (0.16.0)\n",
            "Installing collected packages: kornia\n",
            "Successfully installed kornia-0.3.1\n"
          ],
          "name": "stdout"
        }
      ]
    },
    {
      "cell_type": "code",
      "metadata": {
        "id": "O3hlFkUKpbzn",
        "colab_type": "code",
        "colab": {}
      },
      "source": [
        "class ImageDataSet(Dataset):\n",
        "    def __init__(self, rt):\n",
        "        self.root =rt\n",
        "        self.transfrm_fgbg = transforms.Compose([transforms.Resize((200,200)),\n",
        "        transforms.ToTensor(),transforms.Normalize((0.5314841953145771, 0.5454782214818802, 0.4948384681175141),(0.2673097911607354, 0.24659251689798323, 0.2906037084309324)),])\n",
        "        \n",
        "        self.transfrm_depth  = transforms.Compose([transforms.Resize((200,200)),transforms.ToTensor(),\n",
        "                                                  transforms.Normalize(0.59442,0.251731),])\n",
        "        \n",
        "        self.transfrm_mask = transforms.Compose([transforms.Resize((200,200)),transforms.ToTensor(),\n",
        "                                                 transforms.Normalize(0.02392,0.145103),])\n",
        "        #put transforms here\n",
        "        self.fgbg = os.listdir('data/fgbg/')\n",
        "    def __len__(self):\n",
        "        return len(self.fgbg)\n",
        "    def __getitem__(self,index):\n",
        "        img = self.fgbg[index]\n",
        "        fgbg_img = self.transfrm_fgbg(Image.open(self.root + '/fgbg/'+img))\n",
        "        msk_img  = self.transfrm_mask(Image.open(self.root + '/mask/'+img))\n",
        "        depth_img= self.transfrm_depth(Image.open(self.root + '/depth/'+img))\n",
        "        return {'image':fgbg_img, 'mask':msk_img,'depth':depth_img}\n"
      ],
      "execution_count": 0,
      "outputs": []
    },
    {
      "cell_type": "code",
      "metadata": {
        "id": "K6YS3020pdMX",
        "colab_type": "code",
        "colab": {}
      },
      "source": [
        "def FetchImage(root,index):\n",
        "    imglst = os.listdir('data/fgbg/')\n",
        "    img =imglst[index]\n",
        "    #imgmsk = 'mask' + img[3:] \n",
        "    fgbg = Image.open(root + '/fgbg/'+img)\n",
        "    msk = Image.open(root + '/mask/'+img)\n",
        "    depth = Image.open(root + '/depth/'+img)\n",
        "    return {'image':fgbg, 'mask':msk,'depth':depth}"
      ],
      "execution_count": 0,
      "outputs": []
    },
    {
      "cell_type": "code",
      "metadata": {
        "id": "ghd2oalhpgnq",
        "colab_type": "code",
        "colab": {}
      },
      "source": [
        "class ConvGen(nn.Module):\n",
        "  def __init__(self):\n",
        "      super(ConvGen,self).__init__()\n",
        "\n",
        "      self.convblock1 = nn.Sequential(\n",
        "          nn.Conv2d(3, 32, 3, stride =1, padding =1, bias = False),\n",
        "          nn.BatchNorm2d(32),\n",
        "          nn.ReLU()\n",
        "          )\n",
        "      self.convblock2 = nn.Sequential(\n",
        "          nn.Conv2d(32,64,3,stride=1, padding=1, bias=False),\n",
        "          nn.Conv2d(64,128,1,stride=1,padding=0,bias=False),\n",
        "          nn.BatchNorm2d(128),\n",
        "          nn.ReLU()\n",
        "          )\n",
        "      self.convblock3 = nn.Sequential(\n",
        "          nn.Conv2d(128,256,3,stride=1,padding=1,bias=False),\n",
        "          nn.BatchNorm2d(256),\n",
        "          nn.ReLU()\n",
        "          )\n",
        "      self.convblock4 = nn.Sequential(\n",
        "          nn.Conv2d(256,1,3,stride=1,padding=1,bias= False),\n",
        "          )\n",
        "  def forward(self,sample):\n",
        "     # print(sample.shape)\n",
        "      f = sample['image'] \n",
        "      f = self.convblock2(self.convblock1(f))\n",
        "      f = self.convblock4(self.convblock3(f))\n",
        "      return f"
      ],
      "execution_count": 0,
      "outputs": []
    },
    {
      "cell_type": "code",
      "metadata": {
        "id": "9qkHbwk8puVO",
        "colab_type": "code",
        "colab": {}
      },
      "source": [
        "trainset = ImageDataSet(root)\n",
        "trainloader = DataLoader(trainset, batch_size = 16, shuffle =True, pin_memory=True)"
      ],
      "execution_count": 0,
      "outputs": []
    },
    {
      "cell_type": "code",
      "metadata": {
        "id": "qliW8X6Ppx7Y",
        "colab_type": "code",
        "colab": {
          "base_uri": "https://localhost:8080/",
          "height": 370
        },
        "outputId": "a8e5f8ec-3360-4b9f-f249-cb17743e6458"
      },
      "source": [
        "criterion = nn.BCEWithLogitsLoss() #SSIM( 3, reduction =\"mean\")\n",
        "model = ConvGen()\n",
        "\n",
        "device = torch.device('cuda' if torch.cuda.is_available() else 'cpu')\n",
        "model.to(device=device)\n",
        "\n",
        "# from torchsummary import summary\n",
        "# summary(model, (2,3,200,200))"
      ],
      "execution_count": 52,
      "outputs": [
        {
          "output_type": "execute_result",
          "data": {
            "text/plain": [
              "ConvGen(\n",
              "  (convblock1): Sequential(\n",
              "    (0): Conv2d(3, 32, kernel_size=(3, 3), stride=(1, 1), padding=(1, 1), bias=False)\n",
              "    (1): BatchNorm2d(32, eps=1e-05, momentum=0.1, affine=True, track_running_stats=True)\n",
              "    (2): ReLU()\n",
              "  )\n",
              "  (convblock2): Sequential(\n",
              "    (0): Conv2d(32, 64, kernel_size=(3, 3), stride=(1, 1), padding=(1, 1), bias=False)\n",
              "    (1): Conv2d(64, 128, kernel_size=(1, 1), stride=(1, 1), bias=False)\n",
              "    (2): BatchNorm2d(128, eps=1e-05, momentum=0.1, affine=True, track_running_stats=True)\n",
              "    (3): ReLU()\n",
              "  )\n",
              "  (convblock3): Sequential(\n",
              "    (0): Conv2d(128, 256, kernel_size=(3, 3), stride=(1, 1), padding=(1, 1), bias=False)\n",
              "    (1): BatchNorm2d(256, eps=1e-05, momentum=0.1, affine=True, track_running_stats=True)\n",
              "    (2): ReLU()\n",
              "  )\n",
              "  (convblock4): Sequential(\n",
              "    (0): Conv2d(256, 1, kernel_size=(3, 3), stride=(1, 1), padding=(1, 1), bias=False)\n",
              "  )\n",
              ")"
            ]
          },
          "metadata": {
            "tags": []
          },
          "execution_count": 52
        }
      ]
    },
    {
      "cell_type": "code",
      "metadata": {
        "id": "_8qS9KdBp4iH",
        "colab_type": "code",
        "colab": {}
      },
      "source": [
        "optim = torch.optim.SGD(model.parameters(),lr= 0.01, momentum=0.9, weight_decay=1e-5)"
      ],
      "execution_count": 0,
      "outputs": []
    },
    {
      "cell_type": "code",
      "metadata": {
        "id": "ApeKZSZyp7JA",
        "colab_type": "code",
        "colab": {}
      },
      "source": [
        "def train(model,criterion,device,trainloader,optimizer,epochs):\n",
        "    model.train()\n",
        "    for i, data in enumerate(trainloader):\n",
        "      data[\"image\"] = data[\"image\"].to(device)\n",
        "      data[\"mask\"] = data[\"mask\"].to(device)\n",
        "      #data[\"depth\"] = data[\"depth\"].to(device)\n",
        "\n",
        "      optimizer.zero_grad()\n",
        "      output = model(data)\n",
        "      loss =criterion(output,data[\"mask\"])\n",
        "      loss.backward()\n",
        "      optimizer.step()\n",
        "      if i %500 == 0:\n",
        "          print('Train Epoch: {}  [{}/{}  ({:.0f}%)]\\tLoss:{:.6f}'.format(\n",
        "              epochs,i*len(data),len(trainloader.dataset),\n",
        "              100.*i/len(trainloader),loss.item()))\n",
        "          print('Batch ID: ',i)\n"
      ],
      "execution_count": 0,
      "outputs": []
    },
    {
      "cell_type": "code",
      "metadata": {
        "id": "8pCNdW6Tp9yR",
        "colab_type": "code",
        "colab": {}
      },
      "source": [
        "def test(model,criterion, device,testloader):\n",
        "    model.eval()\n",
        "    test_loss = 0\n",
        "    correct = 0\n",
        "    with torch.noo_grad():\n",
        "        for data in testloader:\n",
        "            data['image'] = data['image'].to(device)\n",
        "            data['mask'] = data['mask'].to(device)\n",
        "            output = model(data)\n",
        "\n",
        "            test_loss += criterion(output,data['mask'],reduction='sum').item()\n",
        "            pred = output.argmax(dim=1, keepdim =True)\n",
        "            correct += pred.eq(target.view_as(pred)).sum().item()\n",
        "    test_loss/=len(testloader.dataset)\n"
      ],
      "execution_count": 0,
      "outputs": []
    },
    {
      "cell_type": "code",
      "metadata": {
        "id": "CcjICLh5qCqf",
        "colab_type": "code",
        "colab": {
          "base_uri": "https://localhost:8080/",
          "height": 1000
        },
        "outputId": "4934d43a-07bc-4619-f8d0-4162f59b934a"
      },
      "source": [
        "\n",
        "from torch.optim.lr_scheduler import StepLR\n",
        "\n",
        "device = torch.device('cuda:0')\n",
        "model = model.to(device)\n",
        "scheduler = StepLR(optim, step_size =1, gamma=0.01)\n",
        "for epoch in range(1, 10):\n",
        "    train(model, criterion, device, trainloader,optim, epoch)\n",
        "    print('epochs',epoch)\n",
        "    scheduler.step()\n"
      ],
      "execution_count": 58,
      "outputs": [
        {
          "output_type": "stream",
          "text": [
            "Train Epoch: 1  [0/10000  (0%)]\tLoss:-2460023521280.000000\n",
            "Batch ID:  0\n",
            "Train Epoch: 1  [150/10000  (8%)]\tLoss:-2630079217664.000000\n",
            "Batch ID:  50\n",
            "Train Epoch: 1  [300/10000  (16%)]\tLoss:-2332720627712.000000\n",
            "Batch ID:  100\n",
            "Train Epoch: 1  [450/10000  (24%)]\tLoss:-3119403499520.000000\n",
            "Batch ID:  150\n",
            "Train Epoch: 1  [600/10000  (32%)]\tLoss:-2555761917952.000000\n",
            "Batch ID:  200\n",
            "Train Epoch: 1  [750/10000  (40%)]\tLoss:-2200840699904.000000\n",
            "Batch ID:  250\n",
            "Train Epoch: 1  [900/10000  (48%)]\tLoss:-2514795888640.000000\n",
            "Batch ID:  300\n",
            "Train Epoch: 1  [1050/10000  (56%)]\tLoss:-2565617221632.000000\n",
            "Batch ID:  350\n",
            "Train Epoch: 1  [1200/10000  (64%)]\tLoss:-2716699983872.000000\n",
            "Batch ID:  400\n",
            "Train Epoch: 1  [1350/10000  (72%)]\tLoss:-2486764568576.000000\n",
            "Batch ID:  450\n",
            "Train Epoch: 1  [1500/10000  (80%)]\tLoss:-1980303933440.000000\n",
            "Batch ID:  500\n",
            "Train Epoch: 1  [1650/10000  (88%)]\tLoss:-2605633503232.000000\n",
            "Batch ID:  550\n",
            "Train Epoch: 1  [1800/10000  (96%)]\tLoss:-2623504908288.000000\n",
            "Batch ID:  600\n",
            "Train Epoch: 2  [0/10000  (0%)]\tLoss:-2621874372608.000000\n",
            "Batch ID:  0\n",
            "Train Epoch: 2  [150/10000  (8%)]\tLoss:-2262275719168.000000\n",
            "Batch ID:  50\n",
            "Train Epoch: 2  [300/10000  (16%)]\tLoss:-3066484228096.000000\n",
            "Batch ID:  100\n",
            "Train Epoch: 2  [450/10000  (24%)]\tLoss:-3297922777088.000000\n",
            "Batch ID:  150\n",
            "Train Epoch: 2  [600/10000  (32%)]\tLoss:-2814117150720.000000\n",
            "Batch ID:  200\n",
            "Train Epoch: 2  [750/10000  (40%)]\tLoss:-2759997521920.000000\n",
            "Batch ID:  250\n",
            "Train Epoch: 2  [900/10000  (48%)]\tLoss:-2637405356032.000000\n",
            "Batch ID:  300\n",
            "Train Epoch: 2  [1050/10000  (56%)]\tLoss:-2160133406720.000000\n",
            "Batch ID:  350\n",
            "Train Epoch: 2  [1200/10000  (64%)]\tLoss:-2222247903232.000000\n",
            "Batch ID:  400\n",
            "Train Epoch: 2  [1350/10000  (72%)]\tLoss:-2974666194944.000000\n",
            "Batch ID:  450\n",
            "Train Epoch: 2  [1500/10000  (80%)]\tLoss:-2625832222720.000000\n",
            "Batch ID:  500\n",
            "Train Epoch: 2  [1650/10000  (88%)]\tLoss:-3078520569856.000000\n",
            "Batch ID:  550\n",
            "Train Epoch: 2  [1800/10000  (96%)]\tLoss:-2804518748160.000000\n",
            "Batch ID:  600\n",
            "Train Epoch: 3  [0/10000  (0%)]\tLoss:-2278762741760.000000\n",
            "Batch ID:  0\n",
            "Train Epoch: 3  [150/10000  (8%)]\tLoss:-2438292045824.000000\n",
            "Batch ID:  50\n",
            "Train Epoch: 3  [300/10000  (16%)]\tLoss:-2775039868928.000000\n",
            "Batch ID:  100\n",
            "Train Epoch: 3  [450/10000  (24%)]\tLoss:-2836143800320.000000\n",
            "Batch ID:  150\n",
            "Train Epoch: 3  [600/10000  (32%)]\tLoss:-1628983132160.000000\n",
            "Batch ID:  200\n",
            "Train Epoch: 3  [750/10000  (40%)]\tLoss:-3046912819200.000000\n",
            "Batch ID:  250\n",
            "Train Epoch: 3  [900/10000  (48%)]\tLoss:-2975619350528.000000\n",
            "Batch ID:  300\n",
            "Train Epoch: 3  [1050/10000  (56%)]\tLoss:-3139974987776.000000\n",
            "Batch ID:  350\n",
            "Train Epoch: 3  [1200/10000  (64%)]\tLoss:-3061379497984.000000\n",
            "Batch ID:  400\n",
            "Train Epoch: 3  [1350/10000  (72%)]\tLoss:-2577050370048.000000\n",
            "Batch ID:  450\n",
            "Train Epoch: 3  [1500/10000  (80%)]\tLoss:-2622595006464.000000\n",
            "Batch ID:  500\n",
            "Train Epoch: 3  [1650/10000  (88%)]\tLoss:-2432043319296.000000\n",
            "Batch ID:  550\n",
            "Train Epoch: 3  [1800/10000  (96%)]\tLoss:-2352012853248.000000\n",
            "Batch ID:  600\n",
            "Train Epoch: 4  [0/10000  (0%)]\tLoss:-2420634025984.000000\n",
            "Batch ID:  0\n",
            "Train Epoch: 4  [150/10000  (8%)]\tLoss:-2983103037440.000000\n",
            "Batch ID:  50\n",
            "Train Epoch: 4  [300/10000  (16%)]\tLoss:-2270088658944.000000\n",
            "Batch ID:  100\n",
            "Train Epoch: 4  [450/10000  (24%)]\tLoss:-2795421040640.000000\n",
            "Batch ID:  150\n",
            "Train Epoch: 4  [600/10000  (32%)]\tLoss:-2939442429952.000000\n",
            "Batch ID:  200\n",
            "Train Epoch: 4  [750/10000  (40%)]\tLoss:-2863109242880.000000\n",
            "Batch ID:  250\n",
            "Train Epoch: 4  [900/10000  (48%)]\tLoss:-2714818314240.000000\n",
            "Batch ID:  300\n",
            "Train Epoch: 4  [1050/10000  (56%)]\tLoss:-2394056032256.000000\n",
            "Batch ID:  350\n",
            "Train Epoch: 4  [1200/10000  (64%)]\tLoss:-2210127937536.000000\n",
            "Batch ID:  400\n",
            "Train Epoch: 4  [1350/10000  (72%)]\tLoss:-2244482433024.000000\n",
            "Batch ID:  450\n",
            "Train Epoch: 4  [1500/10000  (80%)]\tLoss:-2755064758272.000000\n",
            "Batch ID:  500\n",
            "Train Epoch: 4  [1650/10000  (88%)]\tLoss:-3033977585664.000000\n",
            "Batch ID:  550\n",
            "Train Epoch: 4  [1800/10000  (96%)]\tLoss:-2843922137088.000000\n",
            "Batch ID:  600\n",
            "Train Epoch: 5  [0/10000  (0%)]\tLoss:-2835119079424.000000\n",
            "Batch ID:  0\n",
            "Train Epoch: 5  [150/10000  (8%)]\tLoss:-2480816521216.000000\n",
            "Batch ID:  50\n",
            "Train Epoch: 5  [300/10000  (16%)]\tLoss:-2794737631232.000000\n",
            "Batch ID:  100\n",
            "Train Epoch: 5  [450/10000  (24%)]\tLoss:-2625023246336.000000\n",
            "Batch ID:  150\n",
            "Train Epoch: 5  [600/10000  (32%)]\tLoss:-3133793370112.000000\n",
            "Batch ID:  200\n",
            "Train Epoch: 5  [750/10000  (40%)]\tLoss:-2481372266496.000000\n",
            "Batch ID:  250\n",
            "Train Epoch: 5  [900/10000  (48%)]\tLoss:-2812071116800.000000\n",
            "Batch ID:  300\n",
            "Train Epoch: 5  [1050/10000  (56%)]\tLoss:-2422915465216.000000\n",
            "Batch ID:  350\n",
            "Train Epoch: 5  [1200/10000  (64%)]\tLoss:-2756370497536.000000\n",
            "Batch ID:  400\n",
            "Train Epoch: 5  [1350/10000  (72%)]\tLoss:-2998592339968.000000\n",
            "Batch ID:  450\n",
            "Train Epoch: 5  [1500/10000  (80%)]\tLoss:-2314815668224.000000\n",
            "Batch ID:  500\n",
            "Train Epoch: 5  [1650/10000  (88%)]\tLoss:-2458494959616.000000\n",
            "Batch ID:  550\n",
            "Train Epoch: 5  [1800/10000  (96%)]\tLoss:-2576938696704.000000\n",
            "Batch ID:  600\n",
            "Train Epoch: 6  [0/10000  (0%)]\tLoss:-2632046346240.000000\n",
            "Batch ID:  0\n",
            "Train Epoch: 6  [150/10000  (8%)]\tLoss:-3024438165504.000000\n",
            "Batch ID:  50\n",
            "Train Epoch: 6  [300/10000  (16%)]\tLoss:-2497488617472.000000\n",
            "Batch ID:  100\n",
            "Train Epoch: 6  [450/10000  (24%)]\tLoss:-3188686848000.000000\n",
            "Batch ID:  150\n",
            "Train Epoch: 6  [600/10000  (32%)]\tLoss:-2679420223488.000000\n",
            "Batch ID:  200\n",
            "Train Epoch: 6  [750/10000  (40%)]\tLoss:-2579086704640.000000\n",
            "Batch ID:  250\n",
            "Train Epoch: 6  [900/10000  (48%)]\tLoss:-1835444731904.000000\n",
            "Batch ID:  300\n",
            "Train Epoch: 6  [1050/10000  (56%)]\tLoss:-3152134537216.000000\n",
            "Batch ID:  350\n",
            "Train Epoch: 6  [1200/10000  (64%)]\tLoss:-2654909759488.000000\n",
            "Batch ID:  400\n",
            "Train Epoch: 6  [1350/10000  (72%)]\tLoss:-1688217845760.000000\n",
            "Batch ID:  450\n",
            "Train Epoch: 6  [1500/10000  (80%)]\tLoss:-2845927800832.000000\n",
            "Batch ID:  500\n",
            "Train Epoch: 6  [1650/10000  (88%)]\tLoss:-3097597575168.000000\n",
            "Batch ID:  550\n",
            "Train Epoch: 6  [1800/10000  (96%)]\tLoss:-2722557853696.000000\n",
            "Batch ID:  600\n",
            "Train Epoch: 7  [0/10000  (0%)]\tLoss:-2601239183360.000000\n",
            "Batch ID:  0\n",
            "Train Epoch: 7  [150/10000  (8%)]\tLoss:-2236554674176.000000\n",
            "Batch ID:  50\n",
            "Train Epoch: 7  [300/10000  (16%)]\tLoss:-2891083677696.000000\n",
            "Batch ID:  100\n",
            "Train Epoch: 7  [450/10000  (24%)]\tLoss:-2258776883200.000000\n",
            "Batch ID:  150\n",
            "Train Epoch: 7  [600/10000  (32%)]\tLoss:-3030012133376.000000\n",
            "Batch ID:  200\n",
            "Train Epoch: 7  [750/10000  (40%)]\tLoss:-2889448685568.000000\n",
            "Batch ID:  250\n",
            "Train Epoch: 7  [900/10000  (48%)]\tLoss:-2573909098496.000000\n",
            "Batch ID:  300\n",
            "Train Epoch: 7  [1050/10000  (56%)]\tLoss:-1704833843200.000000\n",
            "Batch ID:  350\n",
            "Train Epoch: 7  [1200/10000  (64%)]\tLoss:-2544897359872.000000\n",
            "Batch ID:  400\n",
            "Train Epoch: 7  [1350/10000  (72%)]\tLoss:-2586833059840.000000\n",
            "Batch ID:  450\n",
            "Train Epoch: 7  [1500/10000  (80%)]\tLoss:-2764267847680.000000\n",
            "Batch ID:  500\n",
            "Train Epoch: 7  [1650/10000  (88%)]\tLoss:-1931429543936.000000\n",
            "Batch ID:  550\n",
            "Train Epoch: 7  [1800/10000  (96%)]\tLoss:-3174869499904.000000\n",
            "Batch ID:  600\n",
            "Train Epoch: 8  [0/10000  (0%)]\tLoss:-2677097103360.000000\n",
            "Batch ID:  0\n",
            "Train Epoch: 8  [150/10000  (8%)]\tLoss:-3002586103808.000000\n",
            "Batch ID:  50\n",
            "Train Epoch: 8  [300/10000  (16%)]\tLoss:-2884312236032.000000\n",
            "Batch ID:  100\n",
            "Train Epoch: 8  [450/10000  (24%)]\tLoss:-2598409601024.000000\n",
            "Batch ID:  150\n",
            "Train Epoch: 8  [600/10000  (32%)]\tLoss:-2618578436096.000000\n",
            "Batch ID:  200\n",
            "Train Epoch: 8  [750/10000  (40%)]\tLoss:-1653578661888.000000\n",
            "Batch ID:  250\n",
            "Train Epoch: 8  [900/10000  (48%)]\tLoss:-2968547753984.000000\n",
            "Batch ID:  300\n",
            "Train Epoch: 8  [1050/10000  (56%)]\tLoss:-2097483087872.000000\n",
            "Batch ID:  350\n",
            "Train Epoch: 8  [1200/10000  (64%)]\tLoss:-3013901549568.000000\n",
            "Batch ID:  400\n",
            "Train Epoch: 8  [1350/10000  (72%)]\tLoss:-2648539660288.000000\n",
            "Batch ID:  450\n",
            "Train Epoch: 8  [1500/10000  (80%)]\tLoss:-2879144853504.000000\n",
            "Batch ID:  500\n",
            "Train Epoch: 8  [1650/10000  (88%)]\tLoss:-2950194003968.000000\n",
            "Batch ID:  550\n",
            "Train Epoch: 8  [1800/10000  (96%)]\tLoss:-1718885810176.000000\n",
            "Batch ID:  600\n",
            "Train Epoch: 9  [0/10000  (0%)]\tLoss:-2843762753536.000000\n",
            "Batch ID:  0\n",
            "Train Epoch: 9  [150/10000  (8%)]\tLoss:-2306550267904.000000\n",
            "Batch ID:  50\n",
            "Train Epoch: 9  [300/10000  (16%)]\tLoss:-2934161014784.000000\n",
            "Batch ID:  100\n",
            "Train Epoch: 9  [450/10000  (24%)]\tLoss:-2773502656512.000000\n",
            "Batch ID:  150\n",
            "Train Epoch: 9  [600/10000  (32%)]\tLoss:-3036473458688.000000\n",
            "Batch ID:  200\n",
            "Train Epoch: 9  [750/10000  (40%)]\tLoss:-3153898766336.000000\n",
            "Batch ID:  250\n",
            "Train Epoch: 9  [900/10000  (48%)]\tLoss:-2316010782720.000000\n",
            "Batch ID:  300\n",
            "Train Epoch: 9  [1050/10000  (56%)]\tLoss:-2691806265344.000000\n",
            "Batch ID:  350\n",
            "Train Epoch: 9  [1200/10000  (64%)]\tLoss:-2789434982400.000000\n",
            "Batch ID:  400\n",
            "Train Epoch: 9  [1350/10000  (72%)]\tLoss:-3063648092160.000000\n",
            "Batch ID:  450\n",
            "Train Epoch: 9  [1500/10000  (80%)]\tLoss:-2588007202816.000000\n",
            "Batch ID:  500\n",
            "Train Epoch: 9  [1650/10000  (88%)]\tLoss:-2843648196608.000000\n",
            "Batch ID:  550\n",
            "Train Epoch: 9  [1800/10000  (96%)]\tLoss:-2424407851008.000000\n",
            "Batch ID:  600\n"
          ],
          "name": "stdout"
        }
      ]
    },
    {
      "cell_type": "code",
      "metadata": {
        "id": "IlTEm1C98gId",
        "colab_type": "code",
        "colab": {
          "base_uri": "https://localhost:8080/",
          "height": 337
        },
        "outputId": "4ac12e17-1f5e-4096-9ba7-365aca2496a6"
      },
      "source": [
        "import numpy as np\n",
        "model.eval()\n",
        "x = np.clip(np.asarray(Image.open( '/content/1.jpg' ), dtype=float) / 255, 0, 1)\n",
        "#x= x.to(device)\n",
        "mg = model(x)\n"
      ],
      "execution_count": 70,
      "outputs": [
        {
          "output_type": "error",
          "ename": "IndexError",
          "evalue": "ignored",
          "traceback": [
            "\u001b[0;31m---------------------------------------------------------------------------\u001b[0m",
            "\u001b[0;31mIndexError\u001b[0m                                Traceback (most recent call last)",
            "\u001b[0;32m<ipython-input-70-b846b7358e4c>\u001b[0m in \u001b[0;36m<module>\u001b[0;34m()\u001b[0m\n\u001b[1;32m      3\u001b[0m \u001b[0mx\u001b[0m \u001b[0;34m=\u001b[0m \u001b[0mnp\u001b[0m\u001b[0;34m.\u001b[0m\u001b[0mclip\u001b[0m\u001b[0;34m(\u001b[0m\u001b[0mnp\u001b[0m\u001b[0;34m.\u001b[0m\u001b[0masarray\u001b[0m\u001b[0;34m(\u001b[0m\u001b[0mImage\u001b[0m\u001b[0;34m.\u001b[0m\u001b[0mopen\u001b[0m\u001b[0;34m(\u001b[0m \u001b[0;34m'/content/1.jpg'\u001b[0m \u001b[0;34m)\u001b[0m\u001b[0;34m,\u001b[0m \u001b[0mdtype\u001b[0m\u001b[0;34m=\u001b[0m\u001b[0mfloat\u001b[0m\u001b[0;34m)\u001b[0m \u001b[0;34m/\u001b[0m \u001b[0;36m255\u001b[0m\u001b[0;34m,\u001b[0m \u001b[0;36m0\u001b[0m\u001b[0;34m,\u001b[0m \u001b[0;36m1\u001b[0m\u001b[0;34m)\u001b[0m\u001b[0;34m\u001b[0m\u001b[0;34m\u001b[0m\u001b[0m\n\u001b[1;32m      4\u001b[0m \u001b[0;31m#x= x.to(device)\u001b[0m\u001b[0;34m\u001b[0m\u001b[0;34m\u001b[0m\u001b[0;34m\u001b[0m\u001b[0m\n\u001b[0;32m----> 5\u001b[0;31m \u001b[0mmg\u001b[0m \u001b[0;34m=\u001b[0m \u001b[0mmodel\u001b[0m\u001b[0;34m(\u001b[0m\u001b[0mx\u001b[0m\u001b[0;34m)\u001b[0m\u001b[0;34m\u001b[0m\u001b[0;34m\u001b[0m\u001b[0m\n\u001b[0m",
            "\u001b[0;32m/usr/local/lib/python3.6/dist-packages/torch/nn/modules/module.py\u001b[0m in \u001b[0;36m__call__\u001b[0;34m(self, *input, **kwargs)\u001b[0m\n\u001b[1;32m    548\u001b[0m             \u001b[0mresult\u001b[0m \u001b[0;34m=\u001b[0m \u001b[0mself\u001b[0m\u001b[0;34m.\u001b[0m\u001b[0m_slow_forward\u001b[0m\u001b[0;34m(\u001b[0m\u001b[0;34m*\u001b[0m\u001b[0minput\u001b[0m\u001b[0;34m,\u001b[0m \u001b[0;34m**\u001b[0m\u001b[0mkwargs\u001b[0m\u001b[0;34m)\u001b[0m\u001b[0;34m\u001b[0m\u001b[0;34m\u001b[0m\u001b[0m\n\u001b[1;32m    549\u001b[0m         \u001b[0;32melse\u001b[0m\u001b[0;34m:\u001b[0m\u001b[0;34m\u001b[0m\u001b[0;34m\u001b[0m\u001b[0m\n\u001b[0;32m--> 550\u001b[0;31m             \u001b[0mresult\u001b[0m \u001b[0;34m=\u001b[0m \u001b[0mself\u001b[0m\u001b[0;34m.\u001b[0m\u001b[0mforward\u001b[0m\u001b[0;34m(\u001b[0m\u001b[0;34m*\u001b[0m\u001b[0minput\u001b[0m\u001b[0;34m,\u001b[0m \u001b[0;34m**\u001b[0m\u001b[0mkwargs\u001b[0m\u001b[0;34m)\u001b[0m\u001b[0;34m\u001b[0m\u001b[0;34m\u001b[0m\u001b[0m\n\u001b[0m\u001b[1;32m    551\u001b[0m         \u001b[0;32mfor\u001b[0m \u001b[0mhook\u001b[0m \u001b[0;32min\u001b[0m \u001b[0mself\u001b[0m\u001b[0;34m.\u001b[0m\u001b[0m_forward_hooks\u001b[0m\u001b[0;34m.\u001b[0m\u001b[0mvalues\u001b[0m\u001b[0;34m(\u001b[0m\u001b[0;34m)\u001b[0m\u001b[0;34m:\u001b[0m\u001b[0;34m\u001b[0m\u001b[0;34m\u001b[0m\u001b[0m\n\u001b[1;32m    552\u001b[0m             \u001b[0mhook_result\u001b[0m \u001b[0;34m=\u001b[0m \u001b[0mhook\u001b[0m\u001b[0;34m(\u001b[0m\u001b[0mself\u001b[0m\u001b[0;34m,\u001b[0m \u001b[0minput\u001b[0m\u001b[0;34m,\u001b[0m \u001b[0mresult\u001b[0m\u001b[0;34m)\u001b[0m\u001b[0;34m\u001b[0m\u001b[0;34m\u001b[0m\u001b[0m\n",
            "\u001b[0;32m<ipython-input-51-eafe96c313d6>\u001b[0m in \u001b[0;36mforward\u001b[0;34m(self, sample)\u001b[0m\n\u001b[1;32m     24\u001b[0m   \u001b[0;32mdef\u001b[0m \u001b[0mforward\u001b[0m\u001b[0;34m(\u001b[0m\u001b[0mself\u001b[0m\u001b[0;34m,\u001b[0m\u001b[0msample\u001b[0m\u001b[0;34m)\u001b[0m\u001b[0;34m:\u001b[0m\u001b[0;34m\u001b[0m\u001b[0;34m\u001b[0m\u001b[0m\n\u001b[1;32m     25\u001b[0m      \u001b[0;31m# print(sample.shape)\u001b[0m\u001b[0;34m\u001b[0m\u001b[0;34m\u001b[0m\u001b[0;34m\u001b[0m\u001b[0m\n\u001b[0;32m---> 26\u001b[0;31m       \u001b[0mf\u001b[0m \u001b[0;34m=\u001b[0m \u001b[0msample\u001b[0m\u001b[0;34m[\u001b[0m\u001b[0;34m'image'\u001b[0m\u001b[0;34m]\u001b[0m\u001b[0;34m\u001b[0m\u001b[0;34m\u001b[0m\u001b[0m\n\u001b[0m\u001b[1;32m     27\u001b[0m       \u001b[0mf\u001b[0m \u001b[0;34m=\u001b[0m \u001b[0mself\u001b[0m\u001b[0;34m.\u001b[0m\u001b[0mconvblock2\u001b[0m\u001b[0;34m(\u001b[0m\u001b[0mself\u001b[0m\u001b[0;34m.\u001b[0m\u001b[0mconvblock1\u001b[0m\u001b[0;34m(\u001b[0m\u001b[0mf\u001b[0m\u001b[0;34m)\u001b[0m\u001b[0;34m)\u001b[0m\u001b[0;34m\u001b[0m\u001b[0;34m\u001b[0m\u001b[0m\n\u001b[1;32m     28\u001b[0m       \u001b[0mf\u001b[0m \u001b[0;34m=\u001b[0m \u001b[0mself\u001b[0m\u001b[0;34m.\u001b[0m\u001b[0mconvblock4\u001b[0m\u001b[0;34m(\u001b[0m\u001b[0mself\u001b[0m\u001b[0;34m.\u001b[0m\u001b[0mconvblock3\u001b[0m\u001b[0;34m(\u001b[0m\u001b[0mf\u001b[0m\u001b[0;34m)\u001b[0m\u001b[0;34m)\u001b[0m\u001b[0;34m\u001b[0m\u001b[0;34m\u001b[0m\u001b[0m\n",
            "\u001b[0;31mIndexError\u001b[0m: only integers, slices (`:`), ellipsis (`...`), numpy.newaxis (`None`) and integer or boolean arrays are valid indices"
          ]
        }
      ]
    }
  ]
}