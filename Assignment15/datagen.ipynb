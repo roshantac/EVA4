{
  "nbformat": 4,
  "nbformat_minor": 0,
  "metadata": {
    "colab": {
      "name": "Untitled",
      "provenance": [],
      "authorship_tag": "ABX9TyMv4GQZGUOk9gH8alYfg/jd",
      "include_colab_link": true
    },
    "kernelspec": {
      "name": "python3",
      "display_name": "Python 3"
    }
  },
  "cells": [
    {
      "cell_type": "markdown",
      "metadata": {
        "id": "view-in-github",
        "colab_type": "text"
      },
      "source": [
        "<a href=\"https://colab.research.google.com/github/roshantac/EVA4/blob/master/Assignment15/datagen.ipynb\" target=\"_parent\"><img src=\"https://colab.research.google.com/assets/colab-badge.svg\" alt=\"Open In Colab\"/></a>"
      ]
    },
    {
      "cell_type": "code",
      "metadata": {
        "id": "FrXzm9NnjJM2",
        "colab_type": "code",
        "colab": {
          "base_uri": "https://localhost:8080/",
          "height": 121
        },
        "outputId": "74952c26-d1fa-42ac-defc-4dc38ce1be91"
      },
      "source": [
        "!git clone https://github.com/roshantac/DenseDepth.git"
      ],
      "execution_count": 2,
      "outputs": [
        {
          "output_type": "stream",
          "text": [
            "Cloning into 'DenseDepth'...\n",
            "remote: Enumerating objects: 47, done.\u001b[K\n",
            "remote: Counting objects:   2% (1/47)\u001b[K\rremote: Counting objects:   4% (2/47)\u001b[K\rremote: Counting objects:   6% (3/47)\u001b[K\rremote: Counting objects:   8% (4/47)\u001b[K\rremote: Counting objects:  10% (5/47)\u001b[K\rremote: Counting objects:  12% (6/47)\u001b[K\rremote: Counting objects:  14% (7/47)\u001b[K\rremote: Counting objects:  17% (8/47)\u001b[K\rremote: Counting objects:  19% (9/47)\u001b[K\rremote: Counting objects:  21% (10/47)\u001b[K\rremote: Counting objects:  23% (11/47)\u001b[K\rremote: Counting objects:  25% (12/47)\u001b[K\rremote: Counting objects:  27% (13/47)\u001b[K\rremote: Counting objects:  29% (14/47)\u001b[K\rremote: Counting objects:  31% (15/47)\u001b[K\rremote: Counting objects:  34% (16/47)\u001b[K\rremote: Counting objects:  36% (17/47)\u001b[K\rremote: Counting objects:  38% (18/47)\u001b[K\rremote: Counting objects:  40% (19/47)\u001b[K\rremote: Counting objects:  42% (20/47)\u001b[K\rremote: Counting objects:  44% (21/47)\u001b[K\rremote: Counting objects:  46% (22/47)\u001b[K\rremote: Counting objects:  48% (23/47)\u001b[K\rremote: Counting objects:  51% (24/47)\u001b[K\rremote: Counting objects:  53% (25/47)\u001b[K\rremote: Counting objects:  55% (26/47)\u001b[K\rremote: Counting objects:  57% (27/47)\u001b[K\rremote: Counting objects:  59% (28/47)\u001b[K\rremote: Counting objects:  61% (29/47)\u001b[K\rremote: Counting objects:  63% (30/47)\u001b[K\rremote: Counting objects:  65% (31/47)\u001b[K\rremote: Counting objects:  68% (32/47)\u001b[K\rremote: Counting objects:  70% (33/47)\u001b[K\rremote: Counting objects:  72% (34/47)\u001b[K\rremote: Counting objects:  74% (35/47)\u001b[K\rremote: Counting objects:  76% (36/47)\u001b[K\rremote: Counting objects:  78% (37/47)\u001b[K\rremote: Counting objects:  80% (38/47)\u001b[K\rremote: Counting objects:  82% (39/47)\u001b[K\rremote: Counting objects:  85% (40/47)\u001b[K\rremote: Counting objects:  87% (41/47)\u001b[K\rremote: Counting objects:  89% (42/47)\u001b[K\rremote: Counting objects:  91% (43/47)\u001b[K\rremote: Counting objects:  93% (44/47)\u001b[K\rremote: Counting objects:  95% (45/47)\u001b[K\rremote: Counting objects:  97% (46/47)\u001b[K\rremote: Counting objects: 100% (47/47)\u001b[K\rremote: Counting objects: 100% (47/47), done.\u001b[K\n",
            "remote: Compressing objects:   2% (1/42)\u001b[K\rremote: Compressing objects:   4% (2/42)\u001b[K\rremote: Compressing objects:   7% (3/42)\u001b[K\rremote: Compressing objects:   9% (4/42)\u001b[K\rremote: Compressing objects:  11% (5/42)\u001b[K\rremote: Compressing objects:  14% (6/42)\u001b[K\rremote: Compressing objects:  16% (7/42)\u001b[K\rremote: Compressing objects:  19% (8/42)\u001b[K\rremote: Compressing objects:  21% (9/42)\u001b[K\rremote: Compressing objects:  23% (10/42)\u001b[K\rremote: Compressing objects:  26% (11/42)\u001b[K\rremote: Compressing objects:  28% (12/42)\u001b[K\rremote: Compressing objects:  30% (13/42)\u001b[K\rremote: Compressing objects:  33% (14/42)\u001b[K\rremote: Compressing objects:  35% (15/42)\u001b[K\rremote: Compressing objects:  38% (16/42)\u001b[K\rremote: Compressing objects:  40% (17/42)\u001b[K\rremote: Compressing objects:  42% (18/42)\u001b[K\rremote: Compressing objects:  45% (19/42)\u001b[K\rremote: Compressing objects:  47% (20/42)\u001b[K\rremote: Compressing objects:  50% (21/42)\u001b[K\rremote: Compressing objects:  52% (22/42)\u001b[K\rremote: Compressing objects:  54% (23/42)\u001b[K\rremote: Compressing objects:  57% (24/42)\u001b[K\rremote: Compressing objects:  59% (25/42)\u001b[K\rremote: Compressing objects:  61% (26/42)\u001b[K\rremote: Compressing objects:  64% (27/42)\u001b[K\rremote: Compressing objects:  66% (28/42)\u001b[K\rremote: Compressing objects:  69% (29/42)\u001b[K\rremote: Compressing objects:  71% (30/42)\u001b[K\rremote: Compressing objects:  73% (31/42)\u001b[K\rremote: Compressing objects:  76% (32/42)\u001b[K\rremote: Compressing objects:  78% (33/42)\u001b[K\rremote: Compressing objects:  80% (34/42)\u001b[K\rremote: Compressing objects:  83% (35/42)\u001b[K\rremote: Compressing objects:  85% (36/42)\u001b[K\rremote: Compressing objects:  88% (37/42)\u001b[K\rremote: Compressing objects:  90% (38/42)\u001b[K\rremote: Compressing objects:  92% (39/42)\u001b[K\rremote: Compressing objects:  95% (40/42)\u001b[K\rremote: Compressing objects:  97% (41/42)\u001b[K\rremote: Compressing objects: 100% (42/42)\u001b[K\rremote: Compressing objects: 100% (42/42), done.\u001b[K\n",
            "Unpacking objects:   2% (1/47)   \rUnpacking objects:   4% (2/47)   \rUnpacking objects:   6% (3/47)   \rUnpacking objects:   8% (4/47)   \rUnpacking objects:  10% (5/47)   \rUnpacking objects:  12% (6/47)   \rUnpacking objects:  14% (7/47)   \rUnpacking objects:  17% (8/47)   \rUnpacking objects:  19% (9/47)   \rUnpacking objects:  21% (10/47)   \rUnpacking objects:  23% (11/47)   \rUnpacking objects:  25% (12/47)   \rUnpacking objects:  27% (13/47)   \rUnpacking objects:  29% (14/47)   \rUnpacking objects:  31% (15/47)   \rUnpacking objects:  34% (16/47)   \rUnpacking objects:  36% (17/47)   \rUnpacking objects:  38% (18/47)   \rUnpacking objects:  40% (19/47)   \rUnpacking objects:  42% (20/47)   \rUnpacking objects:  44% (21/47)   \rUnpacking objects:  46% (22/47)   \rUnpacking objects:  48% (23/47)   \rUnpacking objects:  51% (24/47)   \rUnpacking objects:  53% (25/47)   \rUnpacking objects:  55% (26/47)   \rUnpacking objects:  57% (27/47)   \rUnpacking objects:  59% (28/47)   \rUnpacking objects:  61% (29/47)   \rUnpacking objects:  63% (30/47)   \rUnpacking objects:  65% (31/47)   \rUnpacking objects:  68% (32/47)   \rUnpacking objects:  70% (33/47)   \rUnpacking objects:  72% (34/47)   \rUnpacking objects:  74% (35/47)   \rUnpacking objects:  76% (36/47)   \rUnpacking objects:  78% (37/47)   \rUnpacking objects:  80% (38/47)   \rUnpacking objects:  82% (39/47)   \rUnpacking objects:  85% (40/47)   \rremote: Total 47 (delta 5), reused 47 (delta 5), pack-reused 0\u001b[K\n",
            "Unpacking objects:  87% (41/47)   \rUnpacking objects:  89% (42/47)   \rUnpacking objects:  91% (43/47)   \rUnpacking objects:  93% (44/47)   \rUnpacking objects:  95% (45/47)   \rUnpacking objects:  97% (46/47)   \rUnpacking objects: 100% (47/47)   \rUnpacking objects: 100% (47/47), done.\n"
          ],
          "name": "stdout"
        }
      ]
    },
    {
      "cell_type": "code",
      "metadata": {
        "id": "ue3uNFf7jNNG",
        "colab_type": "code",
        "colab": {}
      },
      "source": [
        "!wget https://s3-eu-west-1.amazonaws.com/densedepth/nyu.h5 -O ./DenseDepth/nyu.h5"
      ],
      "execution_count": 0,
      "outputs": []
    },
    {
      "cell_type": "code",
      "metadata": {
        "id": "ULSHXfNPkqX8",
        "colab_type": "code",
        "colab": {}
      },
      "source": [
        "from google.colab import drive\n",
        "drive.mount('/content/gdrive')"
      ],
      "execution_count": 0,
      "outputs": []
    },
    {
      "cell_type": "code",
      "metadata": {
        "id": "P0Wa1POW3NQr",
        "colab_type": "code",
        "colab": {}
      },
      "source": [
        "import cv2\n",
        "import os\n",
        "import numpy as np\n",
        "import shutil \n",
        "\n",
        "imgHt = 600\n",
        "imgWdth = 600\n",
        "global count \n",
        "fgbgDir = \"\"\n",
        "fgbgmaskDir =\"\"\n",
        "errCont =0\n",
        "def processing(bckImg,fgimg,maskimg):\n",
        "\t\n",
        "\tbck = cv2.imread(bckImg,cv2.IMREAD_COLOR)\n",
        "\tfg_img = cv2.imread(fgimg)\n",
        "\tfg_mask =cv2.imread(maskimg,0)\n",
        "\tbck=cv2.resize(bck, (imgWdth,imgHt), interpolation = cv2.INTER_AREA) \n",
        "\tSrow,Scol,chanel = fg_img.shape\n",
        "\tif((Srow > imgHt) or (Scol > imgWdth)):\n",
        "\t\tfg_img = cv2.resize(fg_img, (int(fg_img.shape[0]/2), int(fg_img.shape[1]/2)), interpolation = cv2.INTER_AREA) \n",
        "\t\tfg_mask = cv2.resize(fg_mask, (int(fg_mask.shape[0]/2), int(fg_mask.shape[1]/2)), interpolation = cv2.INTER_AREA) \n",
        "\t\tSrow,Scol,chanel = fg_img.shape\n",
        "\n",
        "\theighFactor,widthFactor = int((bck.shape[0] - fg_img.shape[0])/3), int((bck.shape[1] - fg_img.shape[1])/4)\n",
        "\theight = 0\n",
        "\twidth = 0\n",
        "\tglobal count\n",
        "\tfor i in range(0,4):\n",
        "\t\twidth = 0\t\n",
        "\t\tfor j in range(0,5): #\n",
        "\t\t\tbck = cv2.imread(bckImg)\n",
        "\t\t\tbcktemp=cv2.resize(bck, (imgWdth,imgHt), interpolation = cv2.INTER_AREA) \n",
        "\t\t\t# print(\" heighFactor :\",height, \" widthFactor :\", width)\n",
        "\t\t\troi = bcktemp[height:Srow+height,width:Scol+width]\n",
        "\t\t\tinv_mask = cv2.bitwise_not(fg_mask)\n",
        "\t\t\t# print(\"mask\",fg_mask.shape)\n",
        "\t\t\timg_bck2 = cv2.bitwise_and(roi,roi, mask = inv_mask)#after substraction\n",
        "\t\t\timg_fg2 = cv2.bitwise_and(fg_img,fg_img, mask = fg_mask) #forground after substraction\n",
        "\t\t\tout_img = cv2.add(img_bck2,img_fg2)\n",
        "\t\t\tbcktemp[height:Srow+height,width:Scol+width] = out_img\n",
        "\t\t\tnewImg = np.zeros(bcktemp.shape[:2],fg_mask.dtype)\n",
        "\t\t\tnewImg[height:Srow + height,width:Scol + width] = fg_mask\n",
        "\t\t\timgfileName = fgbgDir + 'img' + str(count) + '.png' \n",
        "\t\t\tcv2.imwrite(imgfileName, cv2.resize(bcktemp, (int(imgWdth/4),int(imgHt/4)), interpolation = cv2.INTER_AREA))\n",
        "\t\t\tmskfileName = fgbgmaskDir + 'mask' + str(count) + '.png' \n",
        "\t\t\tcv2.imwrite(mskfileName, cv2.resize(newImg, (int(imgWdth/4),int(imgHt/4)), interpolation = cv2.INTER_AREA))\n",
        "\t\t\twidth = width +  widthFactor\n",
        "\t\t\tcount +=1\n",
        "\n",
        "\t\theight = height + heighFactor \n",
        "\n",
        "\n",
        "try:\n",
        "\tos.mkdir(\"Output\")\n",
        "except :\n",
        "\tshutil.rmtree(\"Output\")\n",
        "\tos.mkdir(\"Output\")\n",
        "\n",
        "os.mkdir(\"Output/fgbg\")\n",
        "os.mkdir(\"Output/fgbgmask\")\n",
        "\n",
        "fgbgDir = \"Output/fgbg/\"\n",
        "fgbgmaskDir = \"Output/fgbgmask/\"\n",
        "count = 0\n",
        "bckDir = \"Bck_Images/\"\n",
        "fgDir = \"fg_Images/\"\n",
        "fgmskDir = \"fg_mask/\" \n",
        "imgCount =0\n",
        "for _, bckfilename in enumerate(os.listdir(bckDir)): \n",
        "    bgimage = bckDir+ bckfilename \n",
        "    imgCount = imgCount + 1\n",
        "    for _, fgfilename in enumerate(os.listdir(fgDir)): \n",
        "    \tfgimage = fgDir + fgfilename\n",
        "    \tfgmask = fgmskDir + fgfilename\n",
        "    \tprint(\"BackImgCount:\",imgCount)\n",
        "    \tprint(\"count:\",count)\n",
        "    \tprocessing(bgimage,fgimage,fgmask)\n",
        "print(\"errorcases: \",errCont)"
      ],
      "execution_count": 0,
      "outputs": []
    },
    {
      "cell_type": "code",
      "metadata": {
        "id": "MQOIprd86CcS",
        "colab_type": "code",
        "colab": {}
      },
      "source": [
        ""
      ],
      "execution_count": 0,
      "outputs": []
    },
    {
      "cell_type": "code",
      "metadata": {
        "id": "zNdNyFPHkrW8",
        "colab_type": "code",
        "colab": {
          "base_uri": "https://localhost:8080/",
          "height": 167
        },
        "outputId": "e04e11f9-056f-4bdf-853e-a23de8df1661"
      },
      "source": [
        "!import cv2\n",
        "import os\n",
        "import numpy as np\n",
        "import shutil \n",
        "\n",
        "imgHt = 600\n",
        "imgWdth = 600\n",
        "global count \n",
        "fgbgDir = \"\"\n",
        "fgbgmaskDir =\"\"\n",
        "errCont =0\n",
        "def processing(bckImg,fgimg,maskimg):\n",
        "\t\n",
        "\tbck = cv2.imread(bckImg,cv2.IMREAD_COLOR)\n",
        "\tfg_img = cv2.imread(fgimg)\n",
        "\tfg_mask =cv2.imread(maskimg,0)\n",
        "\tbck=cv2.resize(bck, (imgWdth,imgHt), interpolation = cv2.INTER_AREA) \n",
        "\tSrow,Scol,chanel = fg_img.shape\n",
        "\tif((Srow > imgHt) or (Scol > imgWdth)):\n",
        "\t\tfg_img = cv2.resize(fg_img, (int(fg_img.shape[0]/2), int(fg_img.shape[1]/2)), interpolation = cv2.INTER_AREA) \n",
        "\t\tfg_mask = cv2.resize(fg_mask, (int(fg_mask.shape[0]/2), int(fg_mask.shape[1]/2)), interpolation = cv2.INTER_AREA) \n",
        "\t\tSrow,Scol,chanel = fg_img.shape\n",
        "\n",
        "\theighFactor,widthFactor = int((bck.shape[0] - fg_img.shape[0])/3), int((bck.shape[1] - fg_img.shape[1])/4)\n",
        "\theight = 0\n",
        "\twidth = 0\n",
        "\tglobal count\n",
        "\tfor i in range(0,4):\n",
        "\t\twidth = 0\t\n",
        "\t\tfor j in range(0,5): #\n",
        "\t\t\tbck = cv2.imread(bckImg)\n",
        "\t\t\tbcktemp=cv2.resize(bck, (imgWdth,imgHt), interpolation = cv2.INTER_AREA) \n",
        "\t\t\t# print(\" heighFactor :\",height, \" widthFactor :\", width)\n",
        "\t\t\troi = bcktemp[height:Srow+height,width:Scol+width]\n",
        "\t\t\tinv_mask = cv2.bitwise_not(fg_mask)\n",
        "\t\t\t# print(\"mask\",fg_mask.shape)\n",
        "\t\t\timg_bck2 = cv2.bitwise_and(roi,roi, mask = inv_mask)#after substraction\n",
        "\t\t\timg_fg2 = cv2.bitwise_and(fg_img,fg_img, mask = fg_mask) #forground after substraction\n",
        "\t\t\tout_img = cv2.add(img_bck2,img_fg2)\n",
        "\t\t\tbcktemp[height:Srow+height,width:Scol+width] = out_img\n",
        "\t\t\tnewImg = np.zeros(bcktemp.shape[:2],fg_mask.dtype)\n",
        "\t\t\tnewImg[height:Srow + height,width:Scol + width] = fg_mask\n",
        "\t\t\timgfileName = fgbgDir + 'img' + str(count) + '.png' \n",
        "\t\t\tcv2.imwrite(imgfileName, cv2.resize(bcktemp, (int(imgWdth/4),int(imgHt/4)), interpolation = cv2.INTER_AREA))\n",
        "\t\t\tmskfileName = fgbgmaskDir + 'mask' + str(count) + '.png' \n",
        "\t\t\tcv2.imwrite(mskfileName, cv2.resize(newImg, (int(imgWdth/4),int(imgHt/4)), interpolation = cv2.INTER_AREA))\n",
        "\t\t\twidth = width +  widthFactor\n",
        "\t\t\tcount +=1\n",
        "\n",
        "\t\theight = height + heighFactor \n",
        "\n",
        "\n",
        "try:\n",
        "\tos.mkdir(\"Output\")\n",
        "except :\n",
        "\tshutil.rmtree(\"Output\")\n",
        "\tos.mkdir(\"Output\")\n",
        "\n",
        "os.mkdir(\"Output/fgbg\")\n",
        "os.mkdir(\"Output/fgbgmask\")\n",
        "\n",
        "fgbgDir = \"Output/fgbg/\"\n",
        "fgbgmaskDir = \"Output/fgbgmask/\"\n",
        "count = 0\n",
        "bckDir = \"Bck_Images/\"\n",
        "fgDir = \"fg_Images/\"\n",
        "fgmskDir = \"fg_mask/\" \n",
        "imgCount =0\n",
        "for _, bckfilename in enumerate(os.listdir(bckDir)): \n",
        "    bgimage = bckDir+ bckfilename \n",
        "    imgCount = imgCount + 1\n",
        "    for _, fgfilename in enumerate(os.listdir(fgDir)): \n",
        "    \tfgimage = fgDir + fgfilename\n",
        "    \tfgmask = fgmskDir + fgfilename\n",
        "    \tprint(\"BackImgCount:\",imgCount)\n",
        "    \tprint(\"count:\",count)\n",
        "    \tprocessing(bgimage,fgimage,fgmask)\n",
        "print(\"errorcases: \",errCont); python test.py"
      ],
      "execution_count": 6,
      "outputs": [
        {
          "output_type": "error",
          "ename": "NameError",
          "evalue": "ignored",
          "traceback": [
            "\u001b[0;31m---------------------------------------------------------------------------\u001b[0m",
            "\u001b[0;31mNameError\u001b[0m                                 Traceback (most recent call last)",
            "\u001b[0;32m<ipython-input-6-1b8f72e3fc27>\u001b[0m in \u001b[0;36m<module>\u001b[0;34m()\u001b[0m\n\u001b[0;32m----> 1\u001b[0;31m \u001b[0mpython\u001b[0m \u001b[0;34m/\u001b[0m\u001b[0mcontent\u001b[0m\u001b[0;34m/\u001b[0m\u001b[0mDenseDepth\u001b[0m\u001b[0;34m/\u001b[0m\u001b[0mtest\u001b[0m\u001b[0;34m.\u001b[0m\u001b[0mpy\u001b[0m\u001b[0;34m\u001b[0m\u001b[0;34m\u001b[0m\u001b[0m\n\u001b[0m",
            "\u001b[0;31mNameError\u001b[0m: name 'python' is not defined"
          ]
        }
      ]
    },
    {
      "cell_type": "code",
      "metadata": {
        "id": "ZePxkOg7pCSV",
        "colab_type": "code",
        "colab": {}
      },
      "source": [
        "#!cd DenseDepth; python test.py --input '/content/DenseDepth/*.jpg'"
      ],
      "execution_count": 0,
      "outputs": []
    },
    {
      "cell_type": "code",
      "metadata": {
        "id": "aYnPvRPa6Hfq",
        "colab_type": "code",
        "colab": {
          "base_uri": "https://localhost:8080/",
          "height": 34
        },
        "outputId": "7340a460-656b-43b1-d5da-6ca329320987"
      },
      "source": [
        "%cd DenseDepth"
      ],
      "execution_count": 7,
      "outputs": [
        {
          "output_type": "stream",
          "text": [
            "/content/DenseDepth\n"
          ],
          "name": "stdout"
        }
      ]
    },
    {
      "cell_type": "code",
      "metadata": {
        "id": "Vr3xUhEMrGxQ",
        "colab_type": "code",
        "colab": {
          "base_uri": "https://localhost:8080/",
          "height": 347
        },
        "outputId": "7f682a5f-9e5e-4afe-f751-5c489093f0c0"
      },
      "source": [
        "!python test.py --input '/content/DenseDepth/test_images/*.jpg' "
      ],
      "execution_count": 9,
      "outputs": [
        {
          "output_type": "stream",
          "text": [
            "Using TensorFlow backend.\n",
            "Loading model...\n",
            "Traceback (most recent call last):\n",
            "  File \"test.py\", line 25, in <module>\n",
            "    model = load_model(args.model, custom_objects=custom_objects, compile=False)\n",
            "  File \"/usr/local/lib/python3.6/dist-packages/keras/engine/saving.py\", line 492, in load_wrapper\n",
            "    return load_function(*args, **kwargs)\n",
            "  File \"/usr/local/lib/python3.6/dist-packages/keras/engine/saving.py\", line 583, in load_model\n",
            "    with H5Dict(filepath, mode='r') as h5dict:\n",
            "  File \"/usr/local/lib/python3.6/dist-packages/keras/utils/io_utils.py\", line 191, in __init__\n",
            "    self.data = h5py.File(path, mode=mode)\n",
            "  File \"/usr/local/lib/python3.6/dist-packages/h5py/_hl/files.py\", line 408, in __init__\n",
            "    swmr=swmr)\n",
            "  File \"/usr/local/lib/python3.6/dist-packages/h5py/_hl/files.py\", line 173, in make_fid\n",
            "    fid = h5f.open(name, flags, fapl=fapl)\n",
            "  File \"h5py/_objects.pyx\", line 54, in h5py._objects.with_phil.wrapper\n",
            "  File \"h5py/_objects.pyx\", line 55, in h5py._objects.with_phil.wrapper\n",
            "  File \"h5py/h5f.pyx\", line 88, in h5py.h5f.open\n",
            "OSError: Unable to open file (unable to open file: name = 'nyu.h5', errno = 2, error message = 'No such file or directory', flags = 0, o_flags = 0)\n"
          ],
          "name": "stdout"
        }
      ]
    }
  ]
}