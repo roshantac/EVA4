{
  "nbformat": 4,
  "nbformat_minor": 0,
  "metadata": {
    "colab": {
      "name": "Untitled1.ipynb",
      "provenance": [],
      "collapsed_sections": [],
      "machine_shape": "hm",
      "authorship_tag": "ABX9TyOHEN45xmIOg6SLMJ6O2UZS",
      "include_colab_link": true
    },
    "kernelspec": {
      "name": "python3",
      "display_name": "Python 3"
    },
    "accelerator": "GPU"
  },
  "cells": [
    {
      "cell_type": "markdown",
      "metadata": {
        "id": "view-in-github",
        "colab_type": "text"
      },
      "source": [
        "<a href=\"https://colab.research.google.com/github/roshantac/EVA4/blob/master/Assignment15/A/Depthmap.ipynb\" target=\"_parent\"><img src=\"https://colab.research.google.com/assets/colab-badge.svg\" alt=\"Open In Colab\"/></a>"
      ]
    },
    {
      "cell_type": "code",
      "metadata": {
        "id": "VxVCejNhcWgi",
        "colab_type": "code",
        "outputId": "1bb56dfc-4b71-477e-f3fe-3878b4084004",
        "colab": {
          "base_uri": "https://localhost:8080/",
          "height": 486
        }
      },
      "source": [
        "from tensorflow.python.client import device_lib\n",
        "device_lib.list_local_devices()"
      ],
      "execution_count": 1,
      "outputs": [
        {
          "output_type": "execute_result",
          "data": {
            "text/plain": [
              "[name: \"/device:CPU:0\"\n",
              " device_type: \"CPU\"\n",
              " memory_limit: 268435456\n",
              " locality {\n",
              " }\n",
              " incarnation: 10859843474004450651, name: \"/device:XLA_CPU:0\"\n",
              " device_type: \"XLA_CPU\"\n",
              " memory_limit: 17179869184\n",
              " locality {\n",
              " }\n",
              " incarnation: 5572905737203118132\n",
              " physical_device_desc: \"device: XLA_CPU device\", name: \"/device:XLA_GPU:0\"\n",
              " device_type: \"XLA_GPU\"\n",
              " memory_limit: 17179869184\n",
              " locality {\n",
              " }\n",
              " incarnation: 10784727761128795725\n",
              " physical_device_desc: \"device: XLA_GPU device\", name: \"/device:GPU:0\"\n",
              " device_type: \"GPU\"\n",
              " memory_limit: 15701463552\n",
              " locality {\n",
              "   bus_id: 1\n",
              "   links {\n",
              "   }\n",
              " }\n",
              " incarnation: 14150770272096245306\n",
              " physical_device_desc: \"device: 0, name: Tesla P100-PCIE-16GB, pci bus id: 0000:00:04.0, compute capability: 6.0\"]"
            ]
          },
          "metadata": {
            "tags": []
          },
          "execution_count": 1
        }
      ]
    },
    {
      "cell_type": "code",
      "metadata": {
        "id": "iIBt-ftLysRs",
        "colab_type": "code",
        "colab": {
          "base_uri": "https://localhost:8080/",
          "height": 295
        },
        "outputId": "15f82ca4-1611-4916-febb-f7fdf5396775"
      },
      "source": [
        "!nvidia-smi"
      ],
      "execution_count": 18,
      "outputs": [
        {
          "output_type": "stream",
          "text": [
            "Fri May  8 19:37:30 2020       \n",
            "+-----------------------------------------------------------------------------+\n",
            "| NVIDIA-SMI 440.82       Driver Version: 418.67       CUDA Version: 10.1     |\n",
            "|-------------------------------+----------------------+----------------------+\n",
            "| GPU  Name        Persistence-M| Bus-Id        Disp.A | Volatile Uncorr. ECC |\n",
            "| Fan  Temp  Perf  Pwr:Usage/Cap|         Memory-Usage | GPU-Util  Compute M. |\n",
            "|===============================+======================+======================|\n",
            "|   0  Tesla P100-PCIE...  Off  | 00000000:00:04.0 Off |                    0 |\n",
            "| N/A   40C    P0    32W / 250W |  15523MiB / 16280MiB |      0%      Default |\n",
            "+-------------------------------+----------------------+----------------------+\n",
            "                                                                               \n",
            "+-----------------------------------------------------------------------------+\n",
            "| Processes:                                                       GPU Memory |\n",
            "|  GPU       PID   Type   Process name                             Usage      |\n",
            "|=============================================================================|\n",
            "+-----------------------------------------------------------------------------+\n"
          ],
          "name": "stdout"
        }
      ]
    },
    {
      "cell_type": "code",
      "metadata": {
        "id": "MNtW09nQcXj5",
        "colab_type": "code",
        "outputId": "ef2f4adc-306c-4e9a-e9ab-b140b19abc53",
        "colab": {
          "base_uri": "https://localhost:8080/",
          "height": 121
        }
      },
      "source": [
        "!git clone https://github.com/roshantac/DenseDepth.git"
      ],
      "execution_count": 2,
      "outputs": [
        {
          "output_type": "stream",
          "text": [
            "Cloning into 'DenseDepth'...\n",
            "remote: Enumerating objects: 47, done.\u001b[K\n",
            "remote: Counting objects:   2% (1/47)\u001b[K\rremote: Counting objects:   4% (2/47)\u001b[K\rremote: Counting objects:   6% (3/47)\u001b[K\rremote: Counting objects:   8% (4/47)\u001b[K\rremote: Counting objects:  10% (5/47)\u001b[K\rremote: Counting objects:  12% (6/47)\u001b[K\rremote: Counting objects:  14% (7/47)\u001b[K\rremote: Counting objects:  17% (8/47)\u001b[K\rremote: Counting objects:  19% (9/47)\u001b[K\rremote: Counting objects:  21% (10/47)\u001b[K\rremote: Counting objects:  23% (11/47)\u001b[K\rremote: Counting objects:  25% (12/47)\u001b[K\rremote: Counting objects:  27% (13/47)\u001b[K\rremote: Counting objects:  29% (14/47)\u001b[K\rremote: Counting objects:  31% (15/47)\u001b[K\rremote: Counting objects:  34% (16/47)\u001b[K\rremote: Counting objects:  36% (17/47)\u001b[K\rremote: Counting objects:  38% (18/47)\u001b[K\rremote: Counting objects:  40% (19/47)\u001b[K\rremote: Counting objects:  42% (20/47)\u001b[K\rremote: Counting objects:  44% (21/47)\u001b[K\rremote: Counting objects:  46% (22/47)\u001b[K\rremote: Counting objects:  48% (23/47)\u001b[K\rremote: Counting objects:  51% (24/47)\u001b[K\rremote: Counting objects:  53% (25/47)\u001b[K\rremote: Counting objects:  55% (26/47)\u001b[K\rremote: Counting objects:  57% (27/47)\u001b[K\rremote: Counting objects:  59% (28/47)\u001b[K\rremote: Counting objects:  61% (29/47)\u001b[K\rremote: Counting objects:  63% (30/47)\u001b[K\rremote: Counting objects:  65% (31/47)\u001b[K\rremote: Counting objects:  68% (32/47)\u001b[K\rremote: Counting objects:  70% (33/47)\u001b[K\rremote: Counting objects:  72% (34/47)\u001b[K\rremote: Counting objects:  74% (35/47)\u001b[K\rremote: Counting objects:  76% (36/47)\u001b[K\rremote: Counting objects:  78% (37/47)\u001b[K\rremote: Counting objects:  80% (38/47)\u001b[K\rremote: Counting objects:  82% (39/47)\u001b[K\rremote: Counting objects:  85% (40/47)\u001b[K\rremote: Counting objects:  87% (41/47)\u001b[K\rremote: Counting objects:  89% (42/47)\u001b[K\rremote: Counting objects:  91% (43/47)\u001b[K\rremote: Counting objects:  93% (44/47)\u001b[K\rremote: Counting objects:  95% (45/47)\u001b[K\rremote: Counting objects:  97% (46/47)\u001b[K\rremote: Counting objects: 100% (47/47)\u001b[K\rremote: Counting objects: 100% (47/47), done.\u001b[K\n",
            "remote: Compressing objects: 100% (42/42), done.\u001b[K\n",
            "remote: Total 47 (delta 5), reused 47 (delta 5), pack-reused 0\u001b[K\n",
            "Unpacking objects: 100% (47/47), done.\n"
          ],
          "name": "stdout"
        }
      ]
    },
    {
      "cell_type": "code",
      "metadata": {
        "id": "ARM0wRQ0cagy",
        "colab_type": "code",
        "outputId": "e5052824-af83-4433-c088-2702c822f55c",
        "colab": {
          "base_uri": "https://localhost:8080/",
          "height": 208
        }
      },
      "source": [
        "!wget https://s3-eu-west-1.amazonaws.com/densedepth/nyu.h5 -O ./DenseDepth/nyu.h5"
      ],
      "execution_count": 3,
      "outputs": [
        {
          "output_type": "stream",
          "text": [
            "--2020-05-08 19:21:47--  https://s3-eu-west-1.amazonaws.com/densedepth/nyu.h5\n",
            "Resolving s3-eu-west-1.amazonaws.com (s3-eu-west-1.amazonaws.com)... 52.218.96.42\n",
            "Connecting to s3-eu-west-1.amazonaws.com (s3-eu-west-1.amazonaws.com)|52.218.96.42|:443... connected.\n",
            "HTTP request sent, awaiting response... 200 OK\n",
            "Length: 172897376 (165M) [application/h5]\n",
            "Saving to: ‘./DenseDepth/nyu.h5’\n",
            "\n",
            "./DenseDepth/nyu.h5 100%[===================>] 164.89M  14.2MB/s    in 11s     \n",
            "\n",
            "2020-05-08 19:21:59 (14.5 MB/s) - ‘./DenseDepth/nyu.h5’ saved [172897376/172897376]\n",
            "\n"
          ],
          "name": "stdout"
        }
      ]
    },
    {
      "cell_type": "code",
      "metadata": {
        "id": "0lls2cNmcePp",
        "colab_type": "code",
        "outputId": "26f6f9a3-a67f-4f8f-9089-7db193995470",
        "colab": {
          "base_uri": "https://localhost:8080/",
          "height": 124
        }
      },
      "source": [
        "from google.colab import drive\n",
        "drive.mount('/content/gdrive')"
      ],
      "execution_count": 4,
      "outputs": [
        {
          "output_type": "stream",
          "text": [
            "Go to this URL in a browser: https://accounts.google.com/o/oauth2/auth?client_id=947318989803-6bn6qk8qdgf4n4g3pfee6491hc0brc4i.apps.googleusercontent.com&redirect_uri=urn%3aietf%3awg%3aoauth%3a2.0%3aoob&response_type=code&scope=email%20https%3a%2f%2fwww.googleapis.com%2fauth%2fdocs.test%20https%3a%2f%2fwww.googleapis.com%2fauth%2fdrive%20https%3a%2f%2fwww.googleapis.com%2fauth%2fdrive.photos.readonly%20https%3a%2f%2fwww.googleapis.com%2fauth%2fpeopleapi.readonly\n",
            "\n",
            "Enter your authorization code:\n",
            "··········\n",
            "Mounted at /content/gdrive\n"
          ],
          "name": "stdout"
        }
      ]
    },
    {
      "cell_type": "code",
      "metadata": {
        "id": "N4lvN9qkciNE",
        "colab_type": "code",
        "colab": {}
      },
      "source": [
        "!cp '/content/gdrive/My Drive/dataSet2.zip' '/content/DenseDepth/'"
      ],
      "execution_count": 0,
      "outputs": []
    },
    {
      "cell_type": "code",
      "metadata": {
        "id": "sGywTnHRcx2B",
        "colab_type": "code",
        "outputId": "b9c8ca9a-a100-4ee7-dbf6-ddacdbfb8d11",
        "colab": {
          "base_uri": "https://localhost:8080/",
          "height": 34
        }
      },
      "source": [
        "%cd DenseDepth"
      ],
      "execution_count": 6,
      "outputs": [
        {
          "output_type": "stream",
          "text": [
            "/content/DenseDepth\n"
          ],
          "name": "stdout"
        }
      ]
    },
    {
      "cell_type": "code",
      "metadata": {
        "id": "Eoj77A0NjRW0",
        "colab_type": "code",
        "colab": {}
      },
      "source": [
        "mkdir 'Data'"
      ],
      "execution_count": 0,
      "outputs": []
    },
    {
      "cell_type": "code",
      "metadata": {
        "id": "_uiyW06riw9l",
        "colab_type": "code",
        "colab": {}
      },
      "source": [
        "destDataDir = '/content/DenseDepth/Data/'\n",
        "path_to_zip_file = '/content/DenseDepth/dataSet2.zip'\n",
        "import zipfile\n",
        "with zipfile.ZipFile(path_to_zip_file, 'r') as zip_ref:\n",
        "    zip_ref.extractall(destDataDir)"
      ],
      "execution_count": 0,
      "outputs": []
    },
    {
      "cell_type": "code",
      "metadata": {
        "id": "YJ7UG7M6NRLD",
        "colab_type": "code",
        "colab": {}
      },
      "source": [
        "rm '/content/DenseDepth/dataSet2.zip'"
      ],
      "execution_count": 0,
      "outputs": []
    },
    {
      "cell_type": "code",
      "metadata": {
        "id": "7RDAQ0QNLp3Y",
        "colab_type": "code",
        "colab": {}
      },
      "source": [
        "\n",
        "def batchSpliter(srcText,batchSize):\n",
        "\tfp = open(srcText,'r')\n",
        "\tm = fp.read().splitlines()\n",
        "\tstrt = 0\n",
        "\tend = batchSize\n",
        "\tb= []\n",
        "\tfor i in range(0, int(408021/batchSize)+1):\n",
        "\t\ta = m[strt:end]\n",
        "\t\tstrt = end\n",
        "\t\tif((end+batchSize)<408021):\n",
        "\t\t\tend = end+batchSize\n",
        "\t\telse:\n",
        "\t\t\tend = 408021\n",
        "\t\tb.append(a)\n",
        "\treturn b\n"
      ],
      "execution_count": 0,
      "outputs": []
    },
    {
      "cell_type": "code",
      "metadata": {
        "id": "Asq-fVYgWa8x",
        "colab_type": "code",
        "colab": {}
      },
      "source": [
        "!cp '/content/gdrive/My Drive/fgbgimg.txt' '/content/DenseDepth/'"
      ],
      "execution_count": 0,
      "outputs": []
    },
    {
      "cell_type": "code",
      "metadata": {
        "id": "tmKgr2ECdpzQ",
        "colab_type": "code",
        "outputId": "0cfb4061-da91-492c-9c6c-bb2a5b1bfc1d",
        "colab": {
          "base_uri": "https://localhost:8080/",
          "height": 1000
        }
      },
      "source": [
        "import skimage\n",
        "from skimage.transform import resize\n",
        "import os\n",
        "import shutil\n",
        "import numpy as np\n",
        "from PIL import Image\n",
        "os.environ['TF_CPP_MIN_LOG_LEVEL'] = '5'\n",
        "from keras.models import load_model\n",
        "from layers import BilinearUpSampling2D\n",
        "from utils import predict, load_images, display_images\n",
        "from matplotlib import pyplot as plt\n",
        "import datetime\n",
        "!cd DenseDepth/\n",
        "try:\n",
        "  os.mkdir(\"/content/DenseDepth/Data/DepthMap\")\n",
        "except:\n",
        "  print(\"Either folder already exists or tree is not exist\")\n",
        "\n",
        "srcText = \"/content/DenseDepth/fgbgimg.txt\"\n",
        "srcpath = \"/content/DenseDepth/Data/Output/fgbg/\"\n",
        "destpath = \"/content/DenseDepth/Data/DepthMap/\" \n",
        "prrMdl = 'nyu.h5'\n",
        "# Custom object needed for inference and training\n",
        "custom_objects = {'BilinearUpSampling2D': BilinearUpSampling2D, 'depth_loss_function': None}\n",
        "print('Loading model...')\n",
        "idx =0\n",
        "model = load_model(prrMdl, custom_objects=custom_objects, compile=False)\n",
        "print('loaded ...')\n",
        "for d in batchSpliter(srcText,200):\n",
        "  begin_time = datetime.datetime.now()\n",
        "  batch_images = []\n",
        "  for dimg in d:\n",
        "    imgsrc = srcpath + dimg\n",
        "    print(\"imgsrc\",imgsrc)\n",
        "    img = np.clip(np.asarray((Image.open(imgsrc)).resize((640,480),Image.BILINEAR), dtype=float) / 255, 0, 1)\n",
        "    batch_images.append(img)\n",
        "  images = np.stack(batch_images, axis =0)\n",
        "  #del batch_images\n",
        "  outputs = predict(model, images)\n",
        "  #del images\n",
        "  print(\"output\", outputs.shape)\n",
        "  for i in range(outputs.shape[0]):\n",
        "    rescaled = outputs[i][:,:,0]\n",
        "    #print(\"rscaled \",rescaled.shape ,\"  out: \",outputs[i].shape)\n",
        "    rescaled = rescaled - np.min(rescaled)\n",
        "    rescaled = rescaled / np.max(rescaled)\n",
        "    im = Image.fromarray(255-np.uint8(rescaled*255))\n",
        "    im.save(destpath + d[i], optimize=True, quality=60)\n",
        "    print(idx)\n",
        "    idx = idx +1\n",
        "    #print(datetime.datetime.now() - begin_time)\n",
        "  \n",
        "  #del outputs"
      ],
      "execution_count": 16,
      "outputs": [
        {
          "output_type": "stream",
          "text": [
            "/bin/bash: line 0: cd: DenseDepth/: No such file or directory\n",
            "Either folder already exists or tree is not exist\n",
            "Loading model...\n",
            "loaded ...\n",
            "imgsrc /content/DenseDepth/Data/Output/fgbg/img0.jpg\n",
            "imgsrc /content/DenseDepth/Data/Output/fgbg/img1.jpg\n",
            "imgsrc /content/DenseDepth/Data/Output/fgbg/img2.jpg\n",
            "imgsrc /content/DenseDepth/Data/Output/fgbg/img3.jpg\n",
            "imgsrc /content/DenseDepth/Data/Output/fgbg/img4.jpg\n",
            "imgsrc /content/DenseDepth/Data/Output/fgbg/img5.jpg\n",
            "imgsrc /content/DenseDepth/Data/Output/fgbg/img6.jpg\n",
            "imgsrc /content/DenseDepth/Data/Output/fgbg/img7.jpg\n",
            "imgsrc /content/DenseDepth/Data/Output/fgbg/img8.jpg\n",
            "imgsrc /content/DenseDepth/Data/Output/fgbg/img9.jpg\n",
            "imgsrc /content/DenseDepth/Data/Output/fgbg/img10.jpg\n",
            "imgsrc /content/DenseDepth/Data/Output/fgbg/img11.jpg\n",
            "imgsrc /content/DenseDepth/Data/Output/fgbg/img12.jpg\n",
            "imgsrc /content/DenseDepth/Data/Output/fgbg/img13.jpg\n",
            "imgsrc /content/DenseDepth/Data/Output/fgbg/img14.jpg\n",
            "imgsrc /content/DenseDepth/Data/Output/fgbg/img15.jpg\n",
            "imgsrc /content/DenseDepth/Data/Output/fgbg/img16.jpg\n",
            "imgsrc /content/DenseDepth/Data/Output/fgbg/img17.jpg\n",
            "imgsrc /content/DenseDepth/Data/Output/fgbg/img18.jpg\n",
            "imgsrc /content/DenseDepth/Data/Output/fgbg/img19.jpg\n",
            "imgsrc /content/DenseDepth/Data/Output/fgbg/img20.jpg\n",
            "imgsrc /content/DenseDepth/Data/Output/fgbg/img21.jpg\n",
            "imgsrc /content/DenseDepth/Data/Output/fgbg/img22.jpg\n",
            "imgsrc /content/DenseDepth/Data/Output/fgbg/img23.jpg\n",
            "imgsrc /content/DenseDepth/Data/Output/fgbg/img24.jpg\n",
            "imgsrc /content/DenseDepth/Data/Output/fgbg/img25.jpg\n",
            "imgsrc /content/DenseDepth/Data/Output/fgbg/img26.jpg\n",
            "imgsrc /content/DenseDepth/Data/Output/fgbg/img27.jpg\n",
            "imgsrc /content/DenseDepth/Data/Output/fgbg/img28.jpg\n",
            "imgsrc /content/DenseDepth/Data/Output/fgbg/img29.jpg\n",
            "imgsrc /content/DenseDepth/Data/Output/fgbg/img30.jpg\n",
            "imgsrc /content/DenseDepth/Data/Output/fgbg/img31.jpg\n",
            "imgsrc /content/DenseDepth/Data/Output/fgbg/img32.jpg\n",
            "imgsrc /content/DenseDepth/Data/Output/fgbg/img33.jpg\n",
            "imgsrc /content/DenseDepth/Data/Output/fgbg/img34.jpg\n",
            "imgsrc /content/DenseDepth/Data/Output/fgbg/img35.jpg\n",
            "imgsrc /content/DenseDepth/Data/Output/fgbg/img36.jpg\n",
            "imgsrc /content/DenseDepth/Data/Output/fgbg/img37.jpg\n",
            "imgsrc /content/DenseDepth/Data/Output/fgbg/img38.jpg\n",
            "imgsrc /content/DenseDepth/Data/Output/fgbg/img39.jpg\n",
            "imgsrc /content/DenseDepth/Data/Output/fgbg/img40.jpg\n",
            "imgsrc /content/DenseDepth/Data/Output/fgbg/img41.jpg\n",
            "imgsrc /content/DenseDepth/Data/Output/fgbg/img42.jpg\n",
            "imgsrc /content/DenseDepth/Data/Output/fgbg/img43.jpg\n",
            "imgsrc /content/DenseDepth/Data/Output/fgbg/img44.jpg\n",
            "imgsrc /content/DenseDepth/Data/Output/fgbg/img45.jpg\n",
            "imgsrc /content/DenseDepth/Data/Output/fgbg/img46.jpg\n",
            "imgsrc /content/DenseDepth/Data/Output/fgbg/img47.jpg\n",
            "imgsrc /content/DenseDepth/Data/Output/fgbg/img48.jpg\n",
            "imgsrc /content/DenseDepth/Data/Output/fgbg/img49.jpg\n",
            "imgsrc /content/DenseDepth/Data/Output/fgbg/img50.jpg\n",
            "imgsrc /content/DenseDepth/Data/Output/fgbg/img51.jpg\n",
            "imgsrc /content/DenseDepth/Data/Output/fgbg/img52.jpg\n",
            "imgsrc /content/DenseDepth/Data/Output/fgbg/img53.jpg\n",
            "imgsrc /content/DenseDepth/Data/Output/fgbg/img54.jpg\n",
            "imgsrc /content/DenseDepth/Data/Output/fgbg/img55.jpg\n",
            "imgsrc /content/DenseDepth/Data/Output/fgbg/img56.jpg\n",
            "imgsrc /content/DenseDepth/Data/Output/fgbg/img57.jpg\n",
            "imgsrc /content/DenseDepth/Data/Output/fgbg/img58.jpg\n",
            "imgsrc /content/DenseDepth/Data/Output/fgbg/img59.jpg\n",
            "imgsrc /content/DenseDepth/Data/Output/fgbg/img60.jpg\n",
            "imgsrc /content/DenseDepth/Data/Output/fgbg/img61.jpg\n",
            "imgsrc /content/DenseDepth/Data/Output/fgbg/img62.jpg\n",
            "imgsrc /content/DenseDepth/Data/Output/fgbg/img63.jpg\n",
            "imgsrc /content/DenseDepth/Data/Output/fgbg/img64.jpg\n",
            "imgsrc /content/DenseDepth/Data/Output/fgbg/img65.jpg\n",
            "imgsrc /content/DenseDepth/Data/Output/fgbg/img66.jpg\n",
            "imgsrc /content/DenseDepth/Data/Output/fgbg/img67.jpg\n",
            "imgsrc /content/DenseDepth/Data/Output/fgbg/img68.jpg\n",
            "imgsrc /content/DenseDepth/Data/Output/fgbg/img69.jpg\n",
            "imgsrc /content/DenseDepth/Data/Output/fgbg/img70.jpg\n",
            "imgsrc /content/DenseDepth/Data/Output/fgbg/img71.jpg\n",
            "imgsrc /content/DenseDepth/Data/Output/fgbg/img72.jpg\n",
            "imgsrc /content/DenseDepth/Data/Output/fgbg/img73.jpg\n",
            "imgsrc /content/DenseDepth/Data/Output/fgbg/img74.jpg\n",
            "imgsrc /content/DenseDepth/Data/Output/fgbg/img75.jpg\n",
            "imgsrc /content/DenseDepth/Data/Output/fgbg/img76.jpg\n",
            "imgsrc /content/DenseDepth/Data/Output/fgbg/img77.jpg\n",
            "imgsrc /content/DenseDepth/Data/Output/fgbg/img78.jpg\n",
            "imgsrc /content/DenseDepth/Data/Output/fgbg/img79.jpg\n",
            "imgsrc /content/DenseDepth/Data/Output/fgbg/img80.jpg\n",
            "imgsrc /content/DenseDepth/Data/Output/fgbg/img81.jpg\n",
            "imgsrc /content/DenseDepth/Data/Output/fgbg/img82.jpg\n",
            "imgsrc /content/DenseDepth/Data/Output/fgbg/img83.jpg\n",
            "imgsrc /content/DenseDepth/Data/Output/fgbg/img84.jpg\n",
            "imgsrc /content/DenseDepth/Data/Output/fgbg/img85.jpg\n",
            "imgsrc /content/DenseDepth/Data/Output/fgbg/img86.jpg\n",
            "imgsrc /content/DenseDepth/Data/Output/fgbg/img87.jpg\n",
            "imgsrc /content/DenseDepth/Data/Output/fgbg/img88.jpg\n",
            "imgsrc /content/DenseDepth/Data/Output/fgbg/img89.jpg\n",
            "imgsrc /content/DenseDepth/Data/Output/fgbg/img90.jpg\n",
            "imgsrc /content/DenseDepth/Data/Output/fgbg/img91.jpg\n",
            "imgsrc /content/DenseDepth/Data/Output/fgbg/img92.jpg\n",
            "imgsrc /content/DenseDepth/Data/Output/fgbg/img93.jpg\n",
            "imgsrc /content/DenseDepth/Data/Output/fgbg/img94.jpg\n",
            "imgsrc /content/DenseDepth/Data/Output/fgbg/img95.jpg\n",
            "imgsrc /content/DenseDepth/Data/Output/fgbg/img96.jpg\n",
            "imgsrc /content/DenseDepth/Data/Output/fgbg/img97.jpg\n",
            "imgsrc /content/DenseDepth/Data/Output/fgbg/img98.jpg\n",
            "imgsrc /content/DenseDepth/Data/Output/fgbg/img99.jpg\n",
            "imgsrc /content/DenseDepth/Data/Output/fgbg/img100.jpg\n",
            "imgsrc /content/DenseDepth/Data/Output/fgbg/img101.jpg\n",
            "imgsrc /content/DenseDepth/Data/Output/fgbg/img102.jpg\n",
            "imgsrc /content/DenseDepth/Data/Output/fgbg/img103.jpg\n",
            "imgsrc /content/DenseDepth/Data/Output/fgbg/img104.jpg\n",
            "imgsrc /content/DenseDepth/Data/Output/fgbg/img105.jpg\n",
            "imgsrc /content/DenseDepth/Data/Output/fgbg/img106.jpg\n",
            "imgsrc /content/DenseDepth/Data/Output/fgbg/img107.jpg\n",
            "imgsrc /content/DenseDepth/Data/Output/fgbg/img108.jpg\n",
            "imgsrc /content/DenseDepth/Data/Output/fgbg/img109.jpg\n",
            "imgsrc /content/DenseDepth/Data/Output/fgbg/img110.jpg\n",
            "imgsrc /content/DenseDepth/Data/Output/fgbg/img111.jpg\n",
            "imgsrc /content/DenseDepth/Data/Output/fgbg/img112.jpg\n",
            "imgsrc /content/DenseDepth/Data/Output/fgbg/img113.jpg\n",
            "imgsrc /content/DenseDepth/Data/Output/fgbg/img114.jpg\n",
            "imgsrc /content/DenseDepth/Data/Output/fgbg/img115.jpg\n",
            "imgsrc /content/DenseDepth/Data/Output/fgbg/img116.jpg\n",
            "imgsrc /content/DenseDepth/Data/Output/fgbg/img117.jpg\n",
            "imgsrc /content/DenseDepth/Data/Output/fgbg/img118.jpg\n",
            "imgsrc /content/DenseDepth/Data/Output/fgbg/img119.jpg\n",
            "imgsrc /content/DenseDepth/Data/Output/fgbg/img120.jpg\n",
            "imgsrc /content/DenseDepth/Data/Output/fgbg/img121.jpg\n",
            "imgsrc /content/DenseDepth/Data/Output/fgbg/img122.jpg\n",
            "imgsrc /content/DenseDepth/Data/Output/fgbg/img123.jpg\n",
            "imgsrc /content/DenseDepth/Data/Output/fgbg/img124.jpg\n",
            "imgsrc /content/DenseDepth/Data/Output/fgbg/img125.jpg\n",
            "imgsrc /content/DenseDepth/Data/Output/fgbg/img126.jpg\n",
            "imgsrc /content/DenseDepth/Data/Output/fgbg/img127.jpg\n",
            "imgsrc /content/DenseDepth/Data/Output/fgbg/img128.jpg\n",
            "imgsrc /content/DenseDepth/Data/Output/fgbg/img129.jpg\n",
            "imgsrc /content/DenseDepth/Data/Output/fgbg/img130.jpg\n",
            "imgsrc /content/DenseDepth/Data/Output/fgbg/img131.jpg\n",
            "imgsrc /content/DenseDepth/Data/Output/fgbg/img132.jpg\n",
            "imgsrc /content/DenseDepth/Data/Output/fgbg/img133.jpg\n",
            "imgsrc /content/DenseDepth/Data/Output/fgbg/img134.jpg\n",
            "imgsrc /content/DenseDepth/Data/Output/fgbg/img135.jpg\n",
            "imgsrc /content/DenseDepth/Data/Output/fgbg/img136.jpg\n",
            "imgsrc /content/DenseDepth/Data/Output/fgbg/img137.jpg\n",
            "imgsrc /content/DenseDepth/Data/Output/fgbg/img138.jpg\n",
            "imgsrc /content/DenseDepth/Data/Output/fgbg/img139.jpg\n",
            "imgsrc /content/DenseDepth/Data/Output/fgbg/img140.jpg\n",
            "imgsrc /content/DenseDepth/Data/Output/fgbg/img141.jpg\n",
            "imgsrc /content/DenseDepth/Data/Output/fgbg/img142.jpg\n",
            "imgsrc /content/DenseDepth/Data/Output/fgbg/img143.jpg\n",
            "imgsrc /content/DenseDepth/Data/Output/fgbg/img144.jpg\n",
            "imgsrc /content/DenseDepth/Data/Output/fgbg/img145.jpg\n",
            "imgsrc /content/DenseDepth/Data/Output/fgbg/img146.jpg\n",
            "imgsrc /content/DenseDepth/Data/Output/fgbg/img147.jpg\n",
            "imgsrc /content/DenseDepth/Data/Output/fgbg/img148.jpg\n",
            "imgsrc /content/DenseDepth/Data/Output/fgbg/img149.jpg\n",
            "imgsrc /content/DenseDepth/Data/Output/fgbg/img150.jpg\n",
            "imgsrc /content/DenseDepth/Data/Output/fgbg/img151.jpg\n",
            "imgsrc /content/DenseDepth/Data/Output/fgbg/img152.jpg\n",
            "imgsrc /content/DenseDepth/Data/Output/fgbg/img153.jpg\n",
            "imgsrc /content/DenseDepth/Data/Output/fgbg/img154.jpg\n",
            "imgsrc /content/DenseDepth/Data/Output/fgbg/img155.jpg\n",
            "imgsrc /content/DenseDepth/Data/Output/fgbg/img156.jpg\n",
            "imgsrc /content/DenseDepth/Data/Output/fgbg/img157.jpg\n",
            "imgsrc /content/DenseDepth/Data/Output/fgbg/img158.jpg\n",
            "imgsrc /content/DenseDepth/Data/Output/fgbg/img159.jpg\n",
            "imgsrc /content/DenseDepth/Data/Output/fgbg/img160.jpg\n",
            "imgsrc /content/DenseDepth/Data/Output/fgbg/img161.jpg\n",
            "imgsrc /content/DenseDepth/Data/Output/fgbg/img162.jpg\n",
            "imgsrc /content/DenseDepth/Data/Output/fgbg/img163.jpg\n",
            "imgsrc /content/DenseDepth/Data/Output/fgbg/img164.jpg\n",
            "imgsrc /content/DenseDepth/Data/Output/fgbg/img165.jpg\n",
            "imgsrc /content/DenseDepth/Data/Output/fgbg/img166.jpg\n",
            "imgsrc /content/DenseDepth/Data/Output/fgbg/img167.jpg\n",
            "imgsrc /content/DenseDepth/Data/Output/fgbg/img168.jpg\n",
            "imgsrc /content/DenseDepth/Data/Output/fgbg/img169.jpg\n",
            "imgsrc /content/DenseDepth/Data/Output/fgbg/img170.jpg\n",
            "imgsrc /content/DenseDepth/Data/Output/fgbg/img171.jpg\n",
            "imgsrc /content/DenseDepth/Data/Output/fgbg/img172.jpg\n",
            "imgsrc /content/DenseDepth/Data/Output/fgbg/img173.jpg\n",
            "imgsrc /content/DenseDepth/Data/Output/fgbg/img174.jpg\n",
            "imgsrc /content/DenseDepth/Data/Output/fgbg/img175.jpg\n",
            "imgsrc /content/DenseDepth/Data/Output/fgbg/img176.jpg\n",
            "imgsrc /content/DenseDepth/Data/Output/fgbg/img177.jpg\n",
            "imgsrc /content/DenseDepth/Data/Output/fgbg/img178.jpg\n",
            "imgsrc /content/DenseDepth/Data/Output/fgbg/img179.jpg\n",
            "imgsrc /content/DenseDepth/Data/Output/fgbg/img180.jpg\n",
            "imgsrc /content/DenseDepth/Data/Output/fgbg/img181.jpg\n",
            "imgsrc /content/DenseDepth/Data/Output/fgbg/img182.jpg\n",
            "imgsrc /content/DenseDepth/Data/Output/fgbg/img183.jpg\n",
            "imgsrc /content/DenseDepth/Data/Output/fgbg/img184.jpg\n",
            "imgsrc /content/DenseDepth/Data/Output/fgbg/img185.jpg\n",
            "imgsrc /content/DenseDepth/Data/Output/fgbg/img186.jpg\n",
            "imgsrc /content/DenseDepth/Data/Output/fgbg/img187.jpg\n",
            "imgsrc /content/DenseDepth/Data/Output/fgbg/img188.jpg\n",
            "imgsrc /content/DenseDepth/Data/Output/fgbg/img189.jpg\n",
            "imgsrc /content/DenseDepth/Data/Output/fgbg/img190.jpg\n",
            "imgsrc /content/DenseDepth/Data/Output/fgbg/img191.jpg\n",
            "imgsrc /content/DenseDepth/Data/Output/fgbg/img192.jpg\n",
            "imgsrc /content/DenseDepth/Data/Output/fgbg/img193.jpg\n",
            "imgsrc /content/DenseDepth/Data/Output/fgbg/img194.jpg\n",
            "imgsrc /content/DenseDepth/Data/Output/fgbg/img195.jpg\n",
            "imgsrc /content/DenseDepth/Data/Output/fgbg/img196.jpg\n",
            "imgsrc /content/DenseDepth/Data/Output/fgbg/img197.jpg\n",
            "imgsrc /content/DenseDepth/Data/Output/fgbg/img198.jpg\n",
            "imgsrc /content/DenseDepth/Data/Output/fgbg/img199.jpg\n"
          ],
          "name": "stdout"
        },
        {
          "output_type": "error",
          "ename": "ResourceExhaustedError",
          "evalue": "ignored",
          "traceback": [
            "\u001b[0;31m---------------------------------------------------------------------------\u001b[0m",
            "\u001b[0;31mResourceExhaustedError\u001b[0m                    Traceback (most recent call last)",
            "\u001b[0;32m<ipython-input-16-d7a1dbb79eaf>\u001b[0m in \u001b[0;36m<module>\u001b[0;34m()\u001b[0m\n\u001b[1;32m     37\u001b[0m   \u001b[0mimages\u001b[0m \u001b[0;34m=\u001b[0m \u001b[0mnp\u001b[0m\u001b[0;34m.\u001b[0m\u001b[0mstack\u001b[0m\u001b[0;34m(\u001b[0m\u001b[0mbatch_images\u001b[0m\u001b[0;34m,\u001b[0m \u001b[0maxis\u001b[0m \u001b[0;34m=\u001b[0m\u001b[0;36m0\u001b[0m\u001b[0;34m)\u001b[0m\u001b[0;34m\u001b[0m\u001b[0;34m\u001b[0m\u001b[0m\n\u001b[1;32m     38\u001b[0m   \u001b[0;31m#del batch_images\u001b[0m\u001b[0;34m\u001b[0m\u001b[0;34m\u001b[0m\u001b[0;34m\u001b[0m\u001b[0m\n\u001b[0;32m---> 39\u001b[0;31m   \u001b[0moutputs\u001b[0m \u001b[0;34m=\u001b[0m \u001b[0mpredict\u001b[0m\u001b[0;34m(\u001b[0m\u001b[0mmodel\u001b[0m\u001b[0;34m,\u001b[0m \u001b[0mimages\u001b[0m\u001b[0;34m)\u001b[0m\u001b[0;34m\u001b[0m\u001b[0;34m\u001b[0m\u001b[0m\n\u001b[0m\u001b[1;32m     40\u001b[0m   \u001b[0;31m#del images\u001b[0m\u001b[0;34m\u001b[0m\u001b[0;34m\u001b[0m\u001b[0;34m\u001b[0m\u001b[0m\n\u001b[1;32m     41\u001b[0m   \u001b[0mprint\u001b[0m\u001b[0;34m(\u001b[0m\u001b[0;34m\"output\"\u001b[0m\u001b[0;34m,\u001b[0m \u001b[0moutputs\u001b[0m\u001b[0;34m.\u001b[0m\u001b[0mshape\u001b[0m\u001b[0;34m)\u001b[0m\u001b[0;34m\u001b[0m\u001b[0;34m\u001b[0m\u001b[0m\n",
            "\u001b[0;32m/content/DenseDepth/utils.py\u001b[0m in \u001b[0;36mpredict\u001b[0;34m(model, images, minDepth, maxDepth, batch_size)\u001b[0m\n\u001b[1;32m     10\u001b[0m     \u001b[0;32mif\u001b[0m \u001b[0mlen\u001b[0m\u001b[0;34m(\u001b[0m\u001b[0mimages\u001b[0m\u001b[0;34m.\u001b[0m\u001b[0mshape\u001b[0m\u001b[0;34m)\u001b[0m \u001b[0;34m<\u001b[0m \u001b[0;36m4\u001b[0m\u001b[0;34m:\u001b[0m \u001b[0mimages\u001b[0m \u001b[0;34m=\u001b[0m \u001b[0mimages\u001b[0m\u001b[0;34m.\u001b[0m\u001b[0mreshape\u001b[0m\u001b[0;34m(\u001b[0m\u001b[0;34m(\u001b[0m\u001b[0;36m1\u001b[0m\u001b[0;34m,\u001b[0m \u001b[0mimages\u001b[0m\u001b[0;34m.\u001b[0m\u001b[0mshape\u001b[0m\u001b[0;34m[\u001b[0m\u001b[0;36m0\u001b[0m\u001b[0;34m]\u001b[0m\u001b[0;34m,\u001b[0m \u001b[0mimages\u001b[0m\u001b[0;34m.\u001b[0m\u001b[0mshape\u001b[0m\u001b[0;34m[\u001b[0m\u001b[0;36m1\u001b[0m\u001b[0;34m]\u001b[0m\u001b[0;34m,\u001b[0m \u001b[0mimages\u001b[0m\u001b[0;34m.\u001b[0m\u001b[0mshape\u001b[0m\u001b[0;34m[\u001b[0m\u001b[0;36m2\u001b[0m\u001b[0;34m]\u001b[0m\u001b[0;34m)\u001b[0m\u001b[0;34m)\u001b[0m\u001b[0;34m\u001b[0m\u001b[0;34m\u001b[0m\u001b[0m\n\u001b[1;32m     11\u001b[0m     \u001b[0;31m# Compute predictions\u001b[0m\u001b[0;34m\u001b[0m\u001b[0;34m\u001b[0m\u001b[0;34m\u001b[0m\u001b[0m\n\u001b[0;32m---> 12\u001b[0;31m     \u001b[0mpredictions\u001b[0m \u001b[0;34m=\u001b[0m \u001b[0mmodel\u001b[0m\u001b[0;34m.\u001b[0m\u001b[0mpredict\u001b[0m\u001b[0;34m(\u001b[0m\u001b[0mimages\u001b[0m\u001b[0;34m,\u001b[0m \u001b[0mbatch_size\u001b[0m\u001b[0;34m=\u001b[0m\u001b[0mbatch_size\u001b[0m\u001b[0;34m)\u001b[0m\u001b[0;34m\u001b[0m\u001b[0;34m\u001b[0m\u001b[0m\n\u001b[0m\u001b[1;32m     13\u001b[0m     \u001b[0;31m# Put in expected range\u001b[0m\u001b[0;34m\u001b[0m\u001b[0;34m\u001b[0m\u001b[0;34m\u001b[0m\u001b[0m\n\u001b[1;32m     14\u001b[0m     \u001b[0;32mreturn\u001b[0m \u001b[0mnp\u001b[0m\u001b[0;34m.\u001b[0m\u001b[0mclip\u001b[0m\u001b[0;34m(\u001b[0m\u001b[0mDepthNorm\u001b[0m\u001b[0;34m(\u001b[0m\u001b[0mpredictions\u001b[0m\u001b[0;34m,\u001b[0m \u001b[0mmaxDepth\u001b[0m\u001b[0;34m=\u001b[0m\u001b[0mmaxDepth\u001b[0m\u001b[0;34m)\u001b[0m\u001b[0;34m,\u001b[0m \u001b[0mminDepth\u001b[0m\u001b[0;34m,\u001b[0m \u001b[0mmaxDepth\u001b[0m\u001b[0;34m)\u001b[0m \u001b[0;34m/\u001b[0m \u001b[0mmaxDepth\u001b[0m\u001b[0;34m\u001b[0m\u001b[0;34m\u001b[0m\u001b[0m\n",
            "\u001b[0;32m/usr/local/lib/python3.6/dist-packages/keras/engine/training.py\u001b[0m in \u001b[0;36mpredict\u001b[0;34m(self, x, batch_size, verbose, steps, callbacks, max_queue_size, workers, use_multiprocessing)\u001b[0m\n\u001b[1;32m   1460\u001b[0m                                             \u001b[0mverbose\u001b[0m\u001b[0;34m=\u001b[0m\u001b[0mverbose\u001b[0m\u001b[0;34m,\u001b[0m\u001b[0;34m\u001b[0m\u001b[0;34m\u001b[0m\u001b[0m\n\u001b[1;32m   1461\u001b[0m                                             \u001b[0msteps\u001b[0m\u001b[0;34m=\u001b[0m\u001b[0msteps\u001b[0m\u001b[0;34m,\u001b[0m\u001b[0;34m\u001b[0m\u001b[0;34m\u001b[0m\u001b[0m\n\u001b[0;32m-> 1462\u001b[0;31m                                             callbacks=callbacks)\n\u001b[0m\u001b[1;32m   1463\u001b[0m \u001b[0;34m\u001b[0m\u001b[0m\n\u001b[1;32m   1464\u001b[0m     def train_on_batch(self, x, y,\n",
            "\u001b[0;32m/usr/local/lib/python3.6/dist-packages/keras/engine/training_arrays.py\u001b[0m in \u001b[0;36mpredict_loop\u001b[0;34m(model, f, ins, batch_size, verbose, steps, callbacks)\u001b[0m\n\u001b[1;32m    322\u001b[0m             \u001b[0mbatch_logs\u001b[0m \u001b[0;34m=\u001b[0m \u001b[0;34m{\u001b[0m\u001b[0;34m'batch'\u001b[0m\u001b[0;34m:\u001b[0m \u001b[0mbatch_index\u001b[0m\u001b[0;34m,\u001b[0m \u001b[0;34m'size'\u001b[0m\u001b[0;34m:\u001b[0m \u001b[0mlen\u001b[0m\u001b[0;34m(\u001b[0m\u001b[0mbatch_ids\u001b[0m\u001b[0;34m)\u001b[0m\u001b[0;34m}\u001b[0m\u001b[0;34m\u001b[0m\u001b[0;34m\u001b[0m\u001b[0m\n\u001b[1;32m    323\u001b[0m             \u001b[0mcallbacks\u001b[0m\u001b[0;34m.\u001b[0m\u001b[0m_call_batch_hook\u001b[0m\u001b[0;34m(\u001b[0m\u001b[0;34m'predict'\u001b[0m\u001b[0;34m,\u001b[0m \u001b[0;34m'begin'\u001b[0m\u001b[0;34m,\u001b[0m \u001b[0mbatch_index\u001b[0m\u001b[0;34m,\u001b[0m \u001b[0mbatch_logs\u001b[0m\u001b[0;34m)\u001b[0m\u001b[0;34m\u001b[0m\u001b[0;34m\u001b[0m\u001b[0m\n\u001b[0;32m--> 324\u001b[0;31m             \u001b[0mbatch_outs\u001b[0m \u001b[0;34m=\u001b[0m \u001b[0mf\u001b[0m\u001b[0;34m(\u001b[0m\u001b[0mins_batch\u001b[0m\u001b[0;34m)\u001b[0m\u001b[0;34m\u001b[0m\u001b[0;34m\u001b[0m\u001b[0m\n\u001b[0m\u001b[1;32m    325\u001b[0m             \u001b[0mbatch_outs\u001b[0m \u001b[0;34m=\u001b[0m \u001b[0mto_list\u001b[0m\u001b[0;34m(\u001b[0m\u001b[0mbatch_outs\u001b[0m\u001b[0;34m)\u001b[0m\u001b[0;34m\u001b[0m\u001b[0;34m\u001b[0m\u001b[0m\n\u001b[1;32m    326\u001b[0m             \u001b[0;32mif\u001b[0m \u001b[0mbatch_index\u001b[0m \u001b[0;34m==\u001b[0m \u001b[0;36m0\u001b[0m\u001b[0;34m:\u001b[0m\u001b[0;34m\u001b[0m\u001b[0;34m\u001b[0m\u001b[0m\n",
            "\u001b[0;32m/usr/local/lib/python3.6/dist-packages/tensorflow/python/keras/backend.py\u001b[0m in \u001b[0;36m__call__\u001b[0;34m(self, inputs)\u001b[0m\n\u001b[1;32m   3790\u001b[0m         \u001b[0mvalue\u001b[0m \u001b[0;34m=\u001b[0m \u001b[0mmath_ops\u001b[0m\u001b[0;34m.\u001b[0m\u001b[0mcast\u001b[0m\u001b[0;34m(\u001b[0m\u001b[0mvalue\u001b[0m\u001b[0;34m,\u001b[0m \u001b[0mtensor\u001b[0m\u001b[0;34m.\u001b[0m\u001b[0mdtype\u001b[0m\u001b[0;34m)\u001b[0m\u001b[0;34m\u001b[0m\u001b[0;34m\u001b[0m\u001b[0m\n\u001b[1;32m   3791\u001b[0m       \u001b[0mconverted_inputs\u001b[0m\u001b[0;34m.\u001b[0m\u001b[0mappend\u001b[0m\u001b[0;34m(\u001b[0m\u001b[0mvalue\u001b[0m\u001b[0;34m)\u001b[0m\u001b[0;34m\u001b[0m\u001b[0;34m\u001b[0m\u001b[0m\n\u001b[0;32m-> 3792\u001b[0;31m     \u001b[0moutputs\u001b[0m \u001b[0;34m=\u001b[0m \u001b[0mself\u001b[0m\u001b[0;34m.\u001b[0m\u001b[0m_graph_fn\u001b[0m\u001b[0;34m(\u001b[0m\u001b[0;34m*\u001b[0m\u001b[0mconverted_inputs\u001b[0m\u001b[0;34m)\u001b[0m\u001b[0;34m\u001b[0m\u001b[0;34m\u001b[0m\u001b[0m\n\u001b[0m\u001b[1;32m   3793\u001b[0m \u001b[0;34m\u001b[0m\u001b[0m\n\u001b[1;32m   3794\u001b[0m     \u001b[0;31m# EagerTensor.numpy() will often make a copy to ensure memory safety.\u001b[0m\u001b[0;34m\u001b[0m\u001b[0;34m\u001b[0m\u001b[0;34m\u001b[0m\u001b[0m\n",
            "\u001b[0;32m/usr/local/lib/python3.6/dist-packages/tensorflow/python/eager/function.py\u001b[0m in \u001b[0;36m__call__\u001b[0;34m(self, *args, **kwargs)\u001b[0m\n\u001b[1;32m   1603\u001b[0m       \u001b[0mTypeError\u001b[0m\u001b[0;34m:\u001b[0m \u001b[0mFor\u001b[0m \u001b[0minvalid\u001b[0m \u001b[0mpositional\u001b[0m\u001b[0;34m/\u001b[0m\u001b[0mkeyword\u001b[0m \u001b[0margument\u001b[0m \u001b[0mcombinations\u001b[0m\u001b[0;34m.\u001b[0m\u001b[0;34m\u001b[0m\u001b[0;34m\u001b[0m\u001b[0m\n\u001b[1;32m   1604\u001b[0m     \"\"\"\n\u001b[0;32m-> 1605\u001b[0;31m     \u001b[0;32mreturn\u001b[0m \u001b[0mself\u001b[0m\u001b[0;34m.\u001b[0m\u001b[0m_call_impl\u001b[0m\u001b[0;34m(\u001b[0m\u001b[0margs\u001b[0m\u001b[0;34m,\u001b[0m \u001b[0mkwargs\u001b[0m\u001b[0;34m)\u001b[0m\u001b[0;34m\u001b[0m\u001b[0;34m\u001b[0m\u001b[0m\n\u001b[0m\u001b[1;32m   1606\u001b[0m \u001b[0;34m\u001b[0m\u001b[0m\n\u001b[1;32m   1607\u001b[0m   \u001b[0;32mdef\u001b[0m \u001b[0m_call_impl\u001b[0m\u001b[0;34m(\u001b[0m\u001b[0mself\u001b[0m\u001b[0;34m,\u001b[0m \u001b[0margs\u001b[0m\u001b[0;34m,\u001b[0m \u001b[0mkwargs\u001b[0m\u001b[0;34m,\u001b[0m \u001b[0mcancellation_manager\u001b[0m\u001b[0;34m=\u001b[0m\u001b[0;32mNone\u001b[0m\u001b[0;34m)\u001b[0m\u001b[0;34m:\u001b[0m\u001b[0;34m\u001b[0m\u001b[0;34m\u001b[0m\u001b[0m\n",
            "\u001b[0;32m/usr/local/lib/python3.6/dist-packages/tensorflow/python/eager/function.py\u001b[0m in \u001b[0;36m_call_impl\u001b[0;34m(self, args, kwargs, cancellation_manager)\u001b[0m\n\u001b[1;32m   1643\u001b[0m       raise TypeError(\"Keyword arguments {} unknown. Expected {}.\".format(\n\u001b[1;32m   1644\u001b[0m           list(kwargs.keys()), list(self._arg_keywords)))\n\u001b[0;32m-> 1645\u001b[0;31m     \u001b[0;32mreturn\u001b[0m \u001b[0mself\u001b[0m\u001b[0;34m.\u001b[0m\u001b[0m_call_flat\u001b[0m\u001b[0;34m(\u001b[0m\u001b[0margs\u001b[0m\u001b[0;34m,\u001b[0m \u001b[0mself\u001b[0m\u001b[0;34m.\u001b[0m\u001b[0mcaptured_inputs\u001b[0m\u001b[0;34m,\u001b[0m \u001b[0mcancellation_manager\u001b[0m\u001b[0;34m)\u001b[0m\u001b[0;34m\u001b[0m\u001b[0;34m\u001b[0m\u001b[0m\n\u001b[0m\u001b[1;32m   1646\u001b[0m \u001b[0;34m\u001b[0m\u001b[0m\n\u001b[1;32m   1647\u001b[0m   \u001b[0;32mdef\u001b[0m \u001b[0m_filtered_call\u001b[0m\u001b[0;34m(\u001b[0m\u001b[0mself\u001b[0m\u001b[0;34m,\u001b[0m \u001b[0margs\u001b[0m\u001b[0;34m,\u001b[0m \u001b[0mkwargs\u001b[0m\u001b[0;34m)\u001b[0m\u001b[0;34m:\u001b[0m\u001b[0;34m\u001b[0m\u001b[0;34m\u001b[0m\u001b[0m\n",
            "\u001b[0;32m/usr/local/lib/python3.6/dist-packages/tensorflow/python/eager/function.py\u001b[0m in \u001b[0;36m_call_flat\u001b[0;34m(self, args, captured_inputs, cancellation_manager)\u001b[0m\n\u001b[1;32m   1744\u001b[0m       \u001b[0;31m# No tape is watching; skip to running the function.\u001b[0m\u001b[0;34m\u001b[0m\u001b[0;34m\u001b[0m\u001b[0;34m\u001b[0m\u001b[0m\n\u001b[1;32m   1745\u001b[0m       return self._build_call_outputs(self._inference_function.call(\n\u001b[0;32m-> 1746\u001b[0;31m           ctx, args, cancellation_manager=cancellation_manager))\n\u001b[0m\u001b[1;32m   1747\u001b[0m     forward_backward = self._select_forward_and_backward_functions(\n\u001b[1;32m   1748\u001b[0m         \u001b[0margs\u001b[0m\u001b[0;34m,\u001b[0m\u001b[0;34m\u001b[0m\u001b[0;34m\u001b[0m\u001b[0m\n",
            "\u001b[0;32m/usr/local/lib/python3.6/dist-packages/tensorflow/python/eager/function.py\u001b[0m in \u001b[0;36mcall\u001b[0;34m(self, ctx, args, cancellation_manager)\u001b[0m\n\u001b[1;32m    596\u001b[0m               \u001b[0minputs\u001b[0m\u001b[0;34m=\u001b[0m\u001b[0margs\u001b[0m\u001b[0;34m,\u001b[0m\u001b[0;34m\u001b[0m\u001b[0;34m\u001b[0m\u001b[0m\n\u001b[1;32m    597\u001b[0m               \u001b[0mattrs\u001b[0m\u001b[0;34m=\u001b[0m\u001b[0mattrs\u001b[0m\u001b[0;34m,\u001b[0m\u001b[0;34m\u001b[0m\u001b[0;34m\u001b[0m\u001b[0m\n\u001b[0;32m--> 598\u001b[0;31m               ctx=ctx)\n\u001b[0m\u001b[1;32m    599\u001b[0m         \u001b[0;32melse\u001b[0m\u001b[0;34m:\u001b[0m\u001b[0;34m\u001b[0m\u001b[0;34m\u001b[0m\u001b[0m\n\u001b[1;32m    600\u001b[0m           outputs = execute.execute_with_cancellation(\n",
            "\u001b[0;32m/usr/local/lib/python3.6/dist-packages/tensorflow/python/eager/execute.py\u001b[0m in \u001b[0;36mquick_execute\u001b[0;34m(op_name, num_outputs, inputs, attrs, ctx, name)\u001b[0m\n\u001b[1;32m     58\u001b[0m     \u001b[0mctx\u001b[0m\u001b[0;34m.\u001b[0m\u001b[0mensure_initialized\u001b[0m\u001b[0;34m(\u001b[0m\u001b[0;34m)\u001b[0m\u001b[0;34m\u001b[0m\u001b[0;34m\u001b[0m\u001b[0m\n\u001b[1;32m     59\u001b[0m     tensors = pywrap_tfe.TFE_Py_Execute(ctx._handle, device_name, op_name,\n\u001b[0;32m---> 60\u001b[0;31m                                         inputs, attrs, num_outputs)\n\u001b[0m\u001b[1;32m     61\u001b[0m   \u001b[0;32mexcept\u001b[0m \u001b[0mcore\u001b[0m\u001b[0;34m.\u001b[0m\u001b[0m_NotOkStatusException\u001b[0m \u001b[0;32mas\u001b[0m \u001b[0me\u001b[0m\u001b[0;34m:\u001b[0m\u001b[0;34m\u001b[0m\u001b[0;34m\u001b[0m\u001b[0m\n\u001b[1;32m     62\u001b[0m     \u001b[0;32mif\u001b[0m \u001b[0mname\u001b[0m \u001b[0;32mis\u001b[0m \u001b[0;32mnot\u001b[0m \u001b[0;32mNone\u001b[0m\u001b[0;34m:\u001b[0m\u001b[0;34m\u001b[0m\u001b[0;34m\u001b[0m\u001b[0m\n",
            "\u001b[0;31mResourceExhaustedError\u001b[0m: 2 root error(s) found.\n  (0) Resource exhausted:  OOM when allocating tensor with shape[200,96,120,160] and type float on /job:localhost/replica:0/task:0/device:GPU:0 by allocator GPU_0_bfc\n\t [[node conv2_block2_0_bn_4/batchnorm/mul_1 (defined at /usr/local/lib/python3.6/dist-packages/keras/backend/tensorflow_backend.py:3009) ]]\nHint: If you want to see a list of allocated tensors when OOM happens, add report_tensor_allocations_upon_oom to RunOptions for current allocation info.\n\n\t [[up3_upsampling2d_4/resize/size/_38]]\nHint: If you want to see a list of allocated tensors when OOM happens, add report_tensor_allocations_upon_oom to RunOptions for current allocation info.\n\n  (1) Resource exhausted:  OOM when allocating tensor with shape[200,96,120,160] and type float on /job:localhost/replica:0/task:0/device:GPU:0 by allocator GPU_0_bfc\n\t [[node conv2_block2_0_bn_4/batchnorm/mul_1 (defined at /usr/local/lib/python3.6/dist-packages/keras/backend/tensorflow_backend.py:3009) ]]\nHint: If you want to see a list of allocated tensors when OOM happens, add report_tensor_allocations_upon_oom to RunOptions for current allocation info.\n\n0 successful operations.\n0 derived errors ignored. [Op:__inference_keras_scratch_graph_145637]\n\nFunction call stack:\nkeras_scratch_graph -> keras_scratch_graph\n"
          ]
        }
      ]
    },
    {
      "cell_type": "code",
      "metadata": {
        "id": "BidUi-hmtXDo",
        "colab_type": "code",
        "outputId": "39f460bc-9280-4350-c791-571ad474ae43",
        "colab": {
          "base_uri": "https://localhost:8080/",
          "height": 34
        }
      },
      "source": [
        "# importing required modules \n",
        "from zipfile import ZipFile \n",
        "import os \n",
        "  \n",
        "def get_all_file_paths(directory): \n",
        "  \n",
        "    # initializing empty file paths list \n",
        "    file_paths = [] \n",
        "  \n",
        "    # crawling through directory and subdirectories \n",
        "    for root, directories, files in os.walk(directory): \n",
        "        for filename in files: \n",
        "            # join the two strings in order to form the full filepath. \n",
        "            filepath = os.path.join(root, filename) \n",
        "            file_paths.append(filepath) \n",
        "  \n",
        "    # returning all file paths \n",
        "    return file_paths         \n",
        "  \n",
        "def main(): \n",
        "    # path to folder which needs to be zipped \n",
        "    directory = '/content/DenseDepth/Data/DepthMap'\n",
        "  \n",
        "    # calling function to get all file paths in the directory \n",
        "    file_paths = get_all_file_paths(directory) \n",
        "  \n",
        "    # printing the list of all files to be zipped \n",
        "    print('Following files will be zipped:') \n",
        "    for file_name in file_paths: \n",
        "        print(file_name) \n",
        "  \n",
        "    # writing files to a zipfile \n",
        "    with ZipFile('depthMap.zip','w') as zip: \n",
        "        # writing each file one by one \n",
        "        for file in file_paths: \n",
        "            zip.write(file) \n",
        "  \n",
        "    print('All files zipped successfully!')  \n",
        "main()"
      ],
      "execution_count": 0,
      "outputs": [
        {
          "output_type": "stream",
          "text": [
            "he\n"
          ],
          "name": "stdout"
        }
      ]
    },
    {
      "cell_type": "code",
      "metadata": {
        "id": "EI8fslZOVy9g",
        "colab_type": "code",
        "colab": {}
      },
      "source": [
        "!cp '/content/DenseDepth/depthMap.zip' '/content/gdrive/My Drive/'"
      ],
      "execution_count": 0,
      "outputs": []
    },
    {
      "cell_type": "code",
      "metadata": {
        "id": "CVsbZEumg4E2",
        "colab_type": "code",
        "colab": {
          "base_uri": "https://localhost:8080/",
          "height": 34
        },
        "outputId": "c654b528-68d4-4407-85ec-cf695851a1ee"
      },
      "source": [
        "!cd DenseDepth/"
      ],
      "execution_count": 1,
      "outputs": [
        {
          "output_type": "stream",
          "text": [
            "/content/DenseDepth\n"
          ],
          "name": "stdout"
        }
      ]
    },
    {
      "cell_type": "code",
      "metadata": {
        "id": "dF_n5xYKhZ8A",
        "colab_type": "code",
        "colab": {}
      },
      "source": [
        "rm -rf /content/DenseDepth/"
      ],
      "execution_count": 0,
      "outputs": []
    }
  ]
}